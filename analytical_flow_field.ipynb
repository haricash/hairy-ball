{
 "cells": [
  {
   "cell_type": "code",
   "execution_count": 1,
   "id": "1ee3fdd2",
   "metadata": {},
   "outputs": [],
   "source": [
    "import sympy as sp"
   ]
  },
  {
   "cell_type": "code",
   "execution_count": 2,
   "id": "16826823",
   "metadata": {},
   "outputs": [],
   "source": [
    "l,r,R = sp.symbols('l r R')"
   ]
  },
  {
   "cell_type": "markdown",
   "id": "5a1f2b2f",
   "metadata": {},
   "source": [
    "### Defining the matrices"
   ]
  },
  {
   "cell_type": "code",
   "execution_count": 3,
   "id": "283db694",
   "metadata": {},
   "outputs": [],
   "source": [
    "single_layer_operator_rgR = sp.matrices.Matrix([[r**(-2-l) * R**(1+l) * l*(l+1) * (\n",
    "                           (2*l+3)*r**2\n",
    "                           +\n",
    "                           (2*l-1)*R**2\n",
    "                           )/(\n",
    "                           (2*l+1) * (8*l*(l+1)-6)),        \n",
    "                           r**(-2-l) * R**(1+l) * l*(l+1) * (\n",
    "                           ((2*l+3)*(l+1)*r**2)\n",
    "                           -\n",
    "                           ((l+3)*(2*l-1)*R**2)\n",
    "                           )/(\n",
    "                           (2*l+1) * (8*l*(l+1)-6)),\n",
    "                            0],\n",
    "                             \n",
    "                           [r**(-2-l) * R**(1+l) * (\n",
    "                           (6+l-2*l**2)*r**2\n",
    "                           +\n",
    "                           l*(2*l-1)*R**2\n",
    "                           )/(\n",
    "                           (2*l+1) * (8*l*(l+1)-6)),\n",
    "                           r**(-2-l) * R**(1+l) * (l+1) * (\n",
    "                           (2-l)*(1+l)*(2*l+3)*r**2\n",
    "                           +\n",
    "                           l*(l+3)*(2*l-1)*R**2\n",
    "                           )/(\n",
    "                           (2*l+1)*(2*l + 8*l**2*(l+2) - 6)),\n",
    "                            0],\n",
    "                             \n",
    "                           [0,\n",
    "                            0,\n",
    "                           (R**(l+2))/((2*l+1)*(r**(l+1)))]])"
   ]
  },
  {
   "cell_type": "code",
   "execution_count": 4,
   "id": "de1c3bf8",
   "metadata": {},
   "outputs": [
    {
     "data": {
      "text/latex": [
       "$\\displaystyle \\left[\\begin{matrix}\\frac{R^{l + 1} l r^{- l - 2} \\left(l + 1\\right) \\left(R^{2} \\cdot \\left(2 l - 1\\right) + r^{2} \\cdot \\left(2 l + 3\\right)\\right)}{\\left(2 l + 1\\right) \\left(8 l \\left(l + 1\\right) - 6\\right)} & \\frac{R^{l + 1} l r^{- l - 2} \\left(l + 1\\right) \\left(- R^{2} \\left(l + 3\\right) \\left(2 l - 1\\right) + r^{2} \\left(l + 1\\right) \\left(2 l + 3\\right)\\right)}{\\left(2 l + 1\\right) \\left(8 l \\left(l + 1\\right) - 6\\right)} & 0\\\\\\frac{R^{l + 1} r^{- l - 2} \\left(R^{2} l \\left(2 l - 1\\right) + r^{2} \\left(- 2 l^{2} + l + 6\\right)\\right)}{\\left(2 l + 1\\right) \\left(8 l \\left(l + 1\\right) - 6\\right)} & \\frac{R^{l + 1} r^{- l - 2} \\left(l + 1\\right) \\left(R^{2} l \\left(l + 3\\right) \\left(2 l - 1\\right) + r^{2} \\cdot \\left(2 - l\\right) \\left(l + 1\\right) \\left(2 l + 3\\right)\\right)}{\\left(2 l + 1\\right) \\left(8 l^{2} \\left(l + 2\\right) + 2 l - 6\\right)} & 0\\\\0 & 0 & \\frac{R^{l + 2} r^{- l - 1}}{2 l + 1}\\end{matrix}\\right]$"
      ],
      "text/plain": [
       "Matrix([\n",
       "[R**(l + 1)*l*r**(-l - 2)*(l + 1)*(R**2*(2*l - 1) + r**2*(2*l + 3))/((2*l + 1)*(8*l*(l + 1) - 6)),                 R**(l + 1)*l*r**(-l - 2)*(l + 1)*(-R**2*(l + 3)*(2*l - 1) + r**2*(l + 1)*(2*l + 3))/((2*l + 1)*(8*l*(l + 1) - 6)),                                0],\n",
       "[R**(l + 1)*r**(-l - 2)*(R**2*l*(2*l - 1) + r**2*(-2*l**2 + l + 6))/((2*l + 1)*(8*l*(l + 1) - 6)), R**(l + 1)*r**(-l - 2)*(l + 1)*(R**2*l*(l + 3)*(2*l - 1) + r**2*(2 - l)*(l + 1)*(2*l + 3))/((2*l + 1)*(8*l**2*(l + 2) + 2*l - 6)),                                0],\n",
       "[                                                                                               0,                                                                                                                                 0, R**(l + 2)*r**(-l - 1)/(2*l + 1)]])"
      ]
     },
     "execution_count": 4,
     "metadata": {},
     "output_type": "execute_result"
    }
   ],
   "source": [
    "single_layer_operator_rgR"
   ]
  },
  {
   "cell_type": "code",
   "execution_count": 5,
   "id": "2f220c06",
   "metadata": {},
   "outputs": [],
   "source": [
    "single_layer_operator_rlR = sp.matrices.Matrix([[r**(l-1) * R**(-l) * l*(l+1) * (\n",
    "                           (2*l+3)*R**2\n",
    "                           -\n",
    "                           (2*l-1)*r**2\n",
    "                           )/(\n",
    "                           (2*l+1) * (8*l*(l+1)-6)),\n",
    "                           r**(l-1) * R**(-l) * l*(l+1)*(\n",
    "                           (6 * R**2)\n",
    "                           +\n",
    "                           (l*(2*l-1)*(r-R)*(r+R))\n",
    "                           )/(\n",
    "                           (2*l+1) * (8*l*(l+1)-6)),\n",
    "                           0],\n",
    "                                                \n",
    "                           [r**(l-1) * R**(-l) * (\n",
    "                           (1+l)*(2*l+3)*R**2\n",
    "                           -\n",
    "                           (l+3)*(2*l-1)*r**2\n",
    "                           )/(\n",
    "                           (2*l+1) * (8*l*(l+1)-6)),\n",
    "                           r**(l-1) * R**(-l) * (l+1) * (\n",
    "                           l*(l+3)*(2*l-1)*r**2\n",
    "                           -\n",
    "                           (l-2)*(l+1)*(2*l+3)*R**2\n",
    "                           )/(\n",
    "                           (2*l+1)*(2*l + 8*l**2*(l+2) - 6)),\n",
    "                           0],\n",
    "\n",
    "                           [0,\n",
    "                            0,\n",
    "                            r**l/((2*l+1)*R**(l-1))]])"
   ]
  },
  {
   "cell_type": "code",
   "execution_count": 6,
   "id": "575f481f",
   "metadata": {
    "scrolled": true
   },
   "outputs": [
    {
     "data": {
      "text/latex": [
       "$\\displaystyle \\left[\\begin{matrix}\\frac{R^{- l} l r^{l - 1} \\left(l + 1\\right) \\left(R^{2} \\cdot \\left(2 l + 3\\right) - r^{2} \\cdot \\left(2 l - 1\\right)\\right)}{\\left(2 l + 1\\right) \\left(8 l \\left(l + 1\\right) - 6\\right)} & \\frac{R^{- l} l r^{l - 1} \\cdot \\left(6 R^{2} + l \\left(- R + r\\right) \\left(R + r\\right) \\left(2 l - 1\\right)\\right) \\left(l + 1\\right)}{\\left(2 l + 1\\right) \\left(8 l \\left(l + 1\\right) - 6\\right)} & 0\\\\\\frac{R^{- l} r^{l - 1} \\left(R^{2} \\left(l + 1\\right) \\left(2 l + 3\\right) - r^{2} \\left(l + 3\\right) \\left(2 l - 1\\right)\\right)}{\\left(2 l + 1\\right) \\left(8 l \\left(l + 1\\right) - 6\\right)} & \\frac{R^{- l} r^{l - 1} \\left(l + 1\\right) \\left(- R^{2} \\left(l - 2\\right) \\left(l + 1\\right) \\left(2 l + 3\\right) + l r^{2} \\left(l + 3\\right) \\left(2 l - 1\\right)\\right)}{\\left(2 l + 1\\right) \\left(8 l^{2} \\left(l + 2\\right) + 2 l - 6\\right)} & 0\\\\0 & 0 & \\frac{R^{1 - l} r^{l}}{2 l + 1}\\end{matrix}\\right]$"
      ],
      "text/plain": [
       "Matrix([\n",
       "[      l*r**(l - 1)*(l + 1)*(R**2*(2*l + 3) - r**2*(2*l - 1))/(R**l*(2*l + 1)*(8*l*(l + 1) - 6)),                             l*r**(l - 1)*(6*R**2 + l*(-R + r)*(R + r)*(2*l - 1))*(l + 1)/(R**l*(2*l + 1)*(8*l*(l + 1) - 6)),                         0],\n",
       "[r**(l - 1)*(R**2*(l + 1)*(2*l + 3) - r**2*(l + 3)*(2*l - 1))/(R**l*(2*l + 1)*(8*l*(l + 1) - 6)), r**(l - 1)*(l + 1)*(-R**2*(l - 2)*(l + 1)*(2*l + 3) + l*r**2*(l + 3)*(2*l - 1))/(R**l*(2*l + 1)*(8*l**2*(l + 2) + 2*l - 6)),                         0],\n",
       "[                                                                                              0,                                                                                                                           0, R**(1 - l)*r**l/(2*l + 1)]])"
      ]
     },
     "execution_count": 6,
     "metadata": {},
     "output_type": "execute_result"
    }
   ],
   "source": [
    "single_layer_operator_rlR"
   ]
  },
  {
   "cell_type": "code",
   "execution_count": 7,
   "id": "9675bd3a",
   "metadata": {},
   "outputs": [],
   "source": [
    "layer_force = sp.matrices.Matrix([[1],[0],[0]])"
   ]
  },
  {
   "cell_type": "markdown",
   "id": "38644485",
   "metadata": {},
   "source": [
    "### This is the flow field contribution from f_l for r<R (S applied on Y_2m)"
   ]
  },
  {
   "cell_type": "code",
   "execution_count": 10,
   "id": "a61e09c5",
   "metadata": {},
   "outputs": [
    {
     "data": {
      "text/latex": [
       "$\\displaystyle \\left[\\begin{matrix}\\frac{R^{- l} R^{l - 1.0} l \\left(l + 1.0\\right) \\left(- R^{2} \\cdot \\left(2.0 l - 1.0\\right) + R^{2} \\cdot \\left(2.0 l + 3.0\\right)\\right)}{\\left(2.0 l + 1.0\\right) \\left(8.0 l \\left(l + 1.0\\right) - 6.0\\right)}\\\\\\frac{R^{- l} R^{l - 1.0} \\left(R^{2} \\left(l + 1.0\\right) \\left(2.0 l + 3.0\\right) - R^{2} \\left(l + 3.0\\right) \\left(2.0 l - 1.0\\right)\\right)}{\\left(2.0 l + 1.0\\right) \\left(8.0 l \\left(l + 1.0\\right) - 6.0\\right)}\\\\0\\end{matrix}\\right]$"
      ],
      "text/plain": [
       "Matrix([\n",
       "[       R**(l - 1.0)*l*(l + 1.0)*(-R**2*(2.0*l - 1.0) + R**2*(2.0*l + 3.0))/(R**l*(2.0*l + 1.0)*(8.0*l*(l + 1.0) - 6.0))],\n",
       "[R**(l - 1.0)*(R**2*(l + 1.0)*(2.0*l + 3.0) - R**2*(l + 3.0)*(2.0*l - 1.0))/(R**l*(2.0*l + 1.0)*(8.0*l*(l + 1.0) - 6.0))],\n",
       "[                                                                                                                      0]])"
      ]
     },
     "execution_count": 10,
     "metadata": {},
     "output_type": "execute_result"
    }
   ],
   "source": [
    "u_rlR = single_layer_operator_rlR * layer_force\n",
    "u_w = u_rlR.evalf(subs={r:R})\n",
    "u_w"
   ]
  },
  {
   "cell_type": "markdown",
   "id": "7464771e",
   "metadata": {},
   "source": [
    "### The flow field at r>R due to Y_2m forcing"
   ]
  },
  {
   "cell_type": "code",
   "execution_count": 11,
   "id": "9482d310",
   "metadata": {},
   "outputs": [
    {
     "data": {
      "text/latex": [
       "$\\displaystyle \\left[\\begin{matrix}\\frac{0.0285714285714286 R^{3} \\cdot \\left(3.0 R^{2} + 7.0 r^{2}\\right)}{r^{4}}\\\\\\frac{0.0285714285714286 R^{5}}{r^{4}}\\\\0\\end{matrix}\\right]$"
      ],
      "text/plain": [
       "Matrix([\n",
       "[0.0285714285714286*R**3*(3.0*R**2 + 7.0*r**2)/r**4],\n",
       "[                      0.0285714285714286*R**5/r**4],\n",
       "[                                                 0]])"
      ]
     },
     "execution_count": 11,
     "metadata": {},
     "output_type": "execute_result"
    }
   ],
   "source": [
    "u_rgR = single_layer_operator_rgR * layer_force\n",
    "u_rgR.evalf(subs={l:2})"
   ]
  },
  {
   "cell_type": "markdown",
   "id": "e110ec97",
   "metadata": {},
   "source": [
    "### The inverse matrix at the wall (for f_w)"
   ]
  },
  {
   "cell_type": "code",
   "execution_count": 12,
   "id": "d091fb4c",
   "metadata": {},
   "outputs": [
    {
     "data": {
      "text/latex": [
       "$\\displaystyle \\left[\\begin{matrix}\\frac{- 8 R^{2} l^{5} r^{2} r^{l} - 36 R^{2} l^{4} r^{2} r^{l} - 34 R^{2} l^{3} r^{2} r^{l} + 9 R^{2} l^{2} r^{2} r^{l} + 9 R^{2} l r^{2} r^{l} + 8 l^{5} r^{4} r^{l} + 20 l^{4} r^{4} r^{l} - 14 l^{3} r^{4} r^{l} - 77 l^{2} r^{4} r^{l} - 69 l r^{4} r^{l} - 18 r^{4} r^{l}}{- 2 R^{5} R^{l} l^{5} - 7 R^{5} R^{l} l^{4} - 2 R^{5} R^{l} l^{3} + 3 R^{5} R^{l} l^{2} + 2 R^{3} R^{l} l^{5} r^{2} + 3 R^{3} R^{l} l^{4} r^{2} - 10 R^{3} R^{l} l^{3} r^{2} - 23 R^{3} R^{l} l^{2} r^{2} - 12 R^{3} R^{l} l r^{2}} & \\frac{- 8 R^{2} l^{4} r^{2} r^{l} - 36 R^{2} l^{3} r^{2} r^{l} - 34 R^{2} l^{2} r^{2} r^{l} + 9 R^{2} l r^{2} r^{l} + 9 R^{2} r^{2} r^{l} + 8 l^{4} r^{4} r^{l} + 36 l^{3} r^{4} r^{l} + 58 l^{2} r^{4} r^{l} + 39 l r^{4} r^{l} + 9 r^{4} r^{l}}{- 2 R^{5} R^{l} l^{3} - 5 R^{5} R^{l} l^{2} + 3 R^{5} R^{l} l + 2 R^{3} R^{l} l^{3} r^{2} + R^{3} R^{l} l^{2} r^{2} - 11 R^{3} R^{l} l r^{2} - 12 R^{3} R^{l} r^{2}} & 0\\\\\\frac{8 R^{2} l^{4} r^{2} r^{l} + 12 R^{2} l^{3} r^{2} r^{l} - 2 R^{2} l^{2} r^{2} r^{l} - 3 R^{2} l r^{2} r^{l} - 8 l^{4} r^{4} r^{l} - 12 l^{3} r^{4} r^{l} + 26 l^{2} r^{4} r^{l} + 51 l r^{4} r^{l} + 18 r^{4} r^{l}}{- 2 R^{5} R^{l} l^{5} - 7 R^{5} R^{l} l^{4} - 2 R^{5} R^{l} l^{3} + 3 R^{5} R^{l} l^{2} + 2 R^{3} R^{l} l^{5} r^{2} + 3 R^{3} R^{l} l^{4} r^{2} - 10 R^{3} R^{l} l^{3} r^{2} - 23 R^{3} R^{l} l^{2} r^{2} - 12 R^{3} R^{l} l r^{2}} & \\frac{- 8 R^{2} l^{3} r^{2} r^{l} - 12 R^{2} l^{2} r^{2} r^{l} + 2 R^{2} l r^{2} r^{l} + 3 R^{2} r^{2} r^{l} - 8 l^{3} r^{4} r^{l} - 28 l^{2} r^{4} r^{l} - 30 l r^{4} r^{l} - 9 r^{4} r^{l}}{- 2 R^{5} R^{l} l^{3} - 5 R^{5} R^{l} l^{2} + 3 R^{5} R^{l} l + 2 R^{3} R^{l} l^{3} r^{2} + R^{3} R^{l} l^{2} r^{2} - 11 R^{3} R^{l} l r^{2} - 12 R^{3} R^{l} r^{2}} & 0\\\\0 & 0 & \\frac{2 R^{- l} l r r^{l}}{R^{2}} + \\frac{R^{- l} r r^{l}}{R^{2}}\\end{matrix}\\right]$"
      ],
      "text/plain": [
       "Matrix([\n",
       "[(-8*R**2*l**5*r**2*r**l - 36*R**2*l**4*r**2*r**l - 34*R**2*l**3*r**2*r**l + 9*R**2*l**2*r**2*r**l + 9*R**2*l*r**2*r**l + 8*l**5*r**4*r**l + 20*l**4*r**4*r**l - 14*l**3*r**4*r**l - 77*l**2*r**4*r**l - 69*l*r**4*r**l - 18*r**4*r**l)/(-2*R**5*R**l*l**5 - 7*R**5*R**l*l**4 - 2*R**5*R**l*l**3 + 3*R**5*R**l*l**2 + 2*R**3*R**l*l**5*r**2 + 3*R**3*R**l*l**4*r**2 - 10*R**3*R**l*l**3*r**2 - 23*R**3*R**l*l**2*r**2 - 12*R**3*R**l*l*r**2), (-8*R**2*l**4*r**2*r**l - 36*R**2*l**3*r**2*r**l - 34*R**2*l**2*r**2*r**l + 9*R**2*l*r**2*r**l + 9*R**2*r**2*r**l + 8*l**4*r**4*r**l + 36*l**3*r**4*r**l + 58*l**2*r**4*r**l + 39*l*r**4*r**l + 9*r**4*r**l)/(-2*R**5*R**l*l**3 - 5*R**5*R**l*l**2 + 3*R**5*R**l*l + 2*R**3*R**l*l**3*r**2 + R**3*R**l*l**2*r**2 - 11*R**3*R**l*l*r**2 - 12*R**3*R**l*r**2),                                           0],\n",
       "[                                              (8*R**2*l**4*r**2*r**l + 12*R**2*l**3*r**2*r**l - 2*R**2*l**2*r**2*r**l - 3*R**2*l*r**2*r**l - 8*l**4*r**4*r**l - 12*l**3*r**4*r**l + 26*l**2*r**4*r**l + 51*l*r**4*r**l + 18*r**4*r**l)/(-2*R**5*R**l*l**5 - 7*R**5*R**l*l**4 - 2*R**5*R**l*l**3 + 3*R**5*R**l*l**2 + 2*R**3*R**l*l**5*r**2 + 3*R**3*R**l*l**4*r**2 - 10*R**3*R**l*l**3*r**2 - 23*R**3*R**l*l**2*r**2 - 12*R**3*R**l*l*r**2),                                              (-8*R**2*l**3*r**2*r**l - 12*R**2*l**2*r**2*r**l + 2*R**2*l*r**2*r**l + 3*R**2*r**2*r**l - 8*l**3*r**4*r**l - 28*l**2*r**4*r**l - 30*l*r**4*r**l - 9*r**4*r**l)/(-2*R**5*R**l*l**3 - 5*R**5*R**l*l**2 + 3*R**5*R**l*l + 2*R**3*R**l*l**3*r**2 + R**3*R**l*l**2*r**2 - 11*R**3*R**l*l*r**2 - 12*R**3*R**l*r**2),                                           0],\n",
       "[                                                                                                                                                                                                                                                                                                                                                                                                                                          0,                                                                                                                                                                                                                                                                                                                                                           0, 2*l*r*r**l/(R**2*R**l) + r*r**l/(R**2*R**l)]])"
      ]
     },
     "execution_count": 12,
     "metadata": {},
     "output_type": "execute_result"
    }
   ],
   "source": [
    "S_inv = single_layer_operator_rgR.inv()\n",
    "S_inv"
   ]
  },
  {
   "cell_type": "markdown",
   "id": "8921e91d",
   "metadata": {},
   "source": [
    "### The force at the wall"
   ]
  },
  {
   "cell_type": "code",
   "execution_count": 13,
   "id": "cd9c8087",
   "metadata": {},
   "outputs": [],
   "source": [
    "f_w = -S_inv * u_w\n",
    "f_w = f_w.evalf(subs={r:R})"
   ]
  },
  {
   "cell_type": "code",
   "execution_count": 18,
   "id": "851da194",
   "metadata": {},
   "outputs": [
    {
     "data": {
      "text/latex": [
       "$\\displaystyle \\left[\\begin{matrix}- 0.114285714285714 R\\\\- 0.0285714285714286 R\\\\0\\end{matrix}\\right]$"
      ],
      "text/plain": [
       "Matrix([\n",
       "[ -0.114285714285714*R],\n",
       "[-0.0285714285714286*R],\n",
       "[                    0]])"
      ]
     },
     "execution_count": 18,
     "metadata": {},
     "output_type": "execute_result"
    }
   ],
   "source": [
    "u_rgR_prime = single_layer_operator_rgR*f_w\n",
    "u_rgR_prime.evalf(subs={r:R, l:2})"
   ]
  },
  {
   "cell_type": "markdown",
   "id": "5cc5985e",
   "metadata": {},
   "source": [
    "### Analytical expression for flow field at a point outside the force layer"
   ]
  },
  {
   "cell_type": "code",
   "execution_count": 14,
   "id": "666493c7",
   "metadata": {
    "scrolled": true
   },
   "outputs": [
    {
     "data": {
      "text/latex": [
       "$\\displaystyle \\left[\\begin{matrix}\\frac{R^{l + 1} l r^{- l - 2} \\left(l + 1\\right) \\left(R^{2} \\cdot \\left(2 l - 1\\right) + r^{2} \\cdot \\left(2 l + 3\\right)\\right) \\left(- \\frac{R^{- l} R^{l - 1.0} l \\left(l + 1.0\\right) \\left(- R^{2} \\cdot \\left(2.0 l - 1.0\\right) + R^{2} \\cdot \\left(2.0 l + 3.0\\right)\\right) \\left(- 16.0 R^{4} R^{l} l^{4} - 48.0 R^{4} R^{l} l^{3} - 68.0 R^{4} R^{l} l^{2} - 60.0 R^{4} R^{l} l - 18.0 R^{4} R^{l}\\right)}{\\left(2.0 l + 1.0\\right) \\left(8.0 l \\left(l + 1.0\\right) - 6.0\\right) \\left(- 4.0 R^{5} R^{l} l^{4} - 12.0 R^{5} R^{l} l^{3} - 20.0 R^{5} R^{l} l^{2} - 12.0 R^{5} R^{l} l\\right)} - \\frac{R^{- l} R^{l - 1.0} \\left(R^{2} \\left(l + 1.0\\right) \\left(2.0 l + 3.0\\right) - R^{2} \\left(l + 3.0\\right) \\left(2.0 l - 1.0\\right)\\right) \\left(24.0 R^{4} R^{l} l^{2} + 48.0 R^{4} R^{l} l + 18.0 R^{4} R^{l}\\right)}{\\left(2.0 l + 1.0\\right) \\left(8.0 l \\left(l + 1.0\\right) - 6.0\\right) \\left(- 4.0 R^{5} R^{l} l^{2} - 8.0 R^{5} R^{l} l - 12.0 R^{5} R^{l}\\right)}\\right)}{\\left(2 l + 1\\right) \\left(8 l \\left(l + 1\\right) - 6\\right)} + \\frac{R^{l + 1} l r^{- l - 2} \\left(l + 1\\right) \\left(R^{2} \\cdot \\left(2 l - 1\\right) + r^{2} \\cdot \\left(2 l + 3\\right)\\right)}{\\left(2 l + 1\\right) \\left(8 l \\left(l + 1\\right) - 6\\right)} + \\frac{R^{l + 1} l r^{- l - 2} \\left(l + 1\\right) \\left(- R^{2} \\left(l + 3\\right) \\left(2 l - 1\\right) + r^{2} \\left(l + 1\\right) \\left(2 l + 3\\right)\\right) \\left(- \\frac{R^{- l} R^{l - 1.0} l \\left(l + 1.0\\right) \\left(- R^{2} \\cdot \\left(2.0 l - 1.0\\right) + R^{2} \\cdot \\left(2.0 l + 3.0\\right)\\right) \\left(24.0 R^{4} R^{l} l^{2} + 48.0 R^{4} R^{l} l + 18.0 R^{4} R^{l}\\right)}{\\left(2.0 l + 1.0\\right) \\left(8.0 l \\left(l + 1.0\\right) - 6.0\\right) \\left(- 4.0 R^{5} R^{l} l^{4} - 12.0 R^{5} R^{l} l^{3} - 20.0 R^{5} R^{l} l^{2} - 12.0 R^{5} R^{l} l\\right)} - \\frac{R^{- l} R^{l - 1.0} \\left(R^{2} \\left(l + 1.0\\right) \\left(2.0 l + 3.0\\right) - R^{2} \\left(l + 3.0\\right) \\left(2.0 l - 1.0\\right)\\right) \\left(- 16.0 R^{4} R^{l} l^{3} - 40.0 R^{4} R^{l} l^{2} - 28.0 R^{4} R^{l} l - 6.0 R^{4} R^{l}\\right)}{\\left(2.0 l + 1.0\\right) \\left(8.0 l \\left(l + 1.0\\right) - 6.0\\right) \\left(- 4.0 R^{5} R^{l} l^{2} - 8.0 R^{5} R^{l} l - 12.0 R^{5} R^{l}\\right)}\\right)}{\\left(2 l + 1\\right) \\left(8 l \\left(l + 1\\right) - 6\\right)}\\\\\\frac{R^{l + 1} r^{- l - 2} \\left(l + 1\\right) \\left(R^{2} l \\left(l + 3\\right) \\left(2 l - 1\\right) + r^{2} \\cdot \\left(2 - l\\right) \\left(l + 1\\right) \\left(2 l + 3\\right)\\right) \\left(- \\frac{R^{- l} R^{l - 1.0} l \\left(l + 1.0\\right) \\left(- R^{2} \\cdot \\left(2.0 l - 1.0\\right) + R^{2} \\cdot \\left(2.0 l + 3.0\\right)\\right) \\left(24.0 R^{4} R^{l} l^{2} + 48.0 R^{4} R^{l} l + 18.0 R^{4} R^{l}\\right)}{\\left(2.0 l + 1.0\\right) \\left(8.0 l \\left(l + 1.0\\right) - 6.0\\right) \\left(- 4.0 R^{5} R^{l} l^{4} - 12.0 R^{5} R^{l} l^{3} - 20.0 R^{5} R^{l} l^{2} - 12.0 R^{5} R^{l} l\\right)} - \\frac{R^{- l} R^{l - 1.0} \\left(R^{2} \\left(l + 1.0\\right) \\left(2.0 l + 3.0\\right) - R^{2} \\left(l + 3.0\\right) \\left(2.0 l - 1.0\\right)\\right) \\left(- 16.0 R^{4} R^{l} l^{3} - 40.0 R^{4} R^{l} l^{2} - 28.0 R^{4} R^{l} l - 6.0 R^{4} R^{l}\\right)}{\\left(2.0 l + 1.0\\right) \\left(8.0 l \\left(l + 1.0\\right) - 6.0\\right) \\left(- 4.0 R^{5} R^{l} l^{2} - 8.0 R^{5} R^{l} l - 12.0 R^{5} R^{l}\\right)}\\right)}{\\left(2 l + 1\\right) \\left(8 l^{2} \\left(l + 2\\right) + 2 l - 6\\right)} + \\frac{R^{l + 1} r^{- l - 2} \\left(R^{2} l \\left(2 l - 1\\right) + r^{2} \\left(- 2 l^{2} + l + 6\\right)\\right) \\left(- \\frac{R^{- l} R^{l - 1.0} l \\left(l + 1.0\\right) \\left(- R^{2} \\cdot \\left(2.0 l - 1.0\\right) + R^{2} \\cdot \\left(2.0 l + 3.0\\right)\\right) \\left(- 16.0 R^{4} R^{l} l^{4} - 48.0 R^{4} R^{l} l^{3} - 68.0 R^{4} R^{l} l^{2} - 60.0 R^{4} R^{l} l - 18.0 R^{4} R^{l}\\right)}{\\left(2.0 l + 1.0\\right) \\left(8.0 l \\left(l + 1.0\\right) - 6.0\\right) \\left(- 4.0 R^{5} R^{l} l^{4} - 12.0 R^{5} R^{l} l^{3} - 20.0 R^{5} R^{l} l^{2} - 12.0 R^{5} R^{l} l\\right)} - \\frac{R^{- l} R^{l - 1.0} \\left(R^{2} \\left(l + 1.0\\right) \\left(2.0 l + 3.0\\right) - R^{2} \\left(l + 3.0\\right) \\left(2.0 l - 1.0\\right)\\right) \\left(24.0 R^{4} R^{l} l^{2} + 48.0 R^{4} R^{l} l + 18.0 R^{4} R^{l}\\right)}{\\left(2.0 l + 1.0\\right) \\left(8.0 l \\left(l + 1.0\\right) - 6.0\\right) \\left(- 4.0 R^{5} R^{l} l^{2} - 8.0 R^{5} R^{l} l - 12.0 R^{5} R^{l}\\right)}\\right)}{\\left(2 l + 1\\right) \\left(8 l \\left(l + 1\\right) - 6\\right)} + \\frac{R^{l + 1} r^{- l - 2} \\left(R^{2} l \\left(2 l - 1\\right) + r^{2} \\left(- 2 l^{2} + l + 6\\right)\\right)}{\\left(2 l + 1\\right) \\left(8 l \\left(l + 1\\right) - 6\\right)}\\\\0\\end{matrix}\\right]$"
      ],
      "text/plain": [
       "Matrix([\n",
       "[                R**(l + 1)*l*r**(-l - 2)*(l + 1)*(R**2*(2*l - 1) + r**2*(2*l + 3))*(-R**(l - 1.0)*l*(l + 1.0)*(-R**2*(2.0*l - 1.0) + R**2*(2.0*l + 3.0))*(-16.0*R**4*R**l*l**4 - 48.0*R**4*R**l*l**3 - 68.0*R**4*R**l*l**2 - 60.0*R**4*R**l*l - 18.0*R**4*R**l)/(R**l*(2.0*l + 1.0)*(8.0*l*(l + 1.0) - 6.0)*(-4.0*R**5*R**l*l**4 - 12.0*R**5*R**l*l**3 - 20.0*R**5*R**l*l**2 - 12.0*R**5*R**l*l)) - R**(l - 1.0)*(R**2*(l + 1.0)*(2.0*l + 3.0) - R**2*(l + 3.0)*(2.0*l - 1.0))*(24.0*R**4*R**l*l**2 + 48.0*R**4*R**l*l + 18.0*R**4*R**l)/(R**l*(2.0*l + 1.0)*(8.0*l*(l + 1.0) - 6.0)*(-4.0*R**5*R**l*l**2 - 8.0*R**5*R**l*l - 12.0*R**5*R**l)))/((2*l + 1)*(8*l*(l + 1) - 6)) + R**(l + 1)*l*r**(-l - 2)*(l + 1)*(R**2*(2*l - 1) + r**2*(2*l + 3))/((2*l + 1)*(8*l*(l + 1) - 6)) + R**(l + 1)*l*r**(-l - 2)*(l + 1)*(-R**2*(l + 3)*(2*l - 1) + r**2*(l + 1)*(2*l + 3))*(-R**(l - 1.0)*l*(l + 1.0)*(-R**2*(2.0*l - 1.0) + R**2*(2.0*l + 3.0))*(24.0*R**4*R**l*l**2 + 48.0*R**4*R**l*l + 18.0*R**4*R**l)/(R**l*(2.0*l + 1.0)*(8.0*l*(l + 1.0) - 6.0)*(-4.0*R**5*R**l*l**4 - 12.0*R**5*R**l*l**3 - 20.0*R**5*R**l*l**2 - 12.0*R**5*R**l*l)) - R**(l - 1.0)*(R**2*(l + 1.0)*(2.0*l + 3.0) - R**2*(l + 3.0)*(2.0*l - 1.0))*(-16.0*R**4*R**l*l**3 - 40.0*R**4*R**l*l**2 - 28.0*R**4*R**l*l - 6.0*R**4*R**l)/(R**l*(2.0*l + 1.0)*(8.0*l*(l + 1.0) - 6.0)*(-4.0*R**5*R**l*l**2 - 8.0*R**5*R**l*l - 12.0*R**5*R**l)))/((2*l + 1)*(8*l*(l + 1) - 6))],\n",
       "[R**(l + 1)*r**(-l - 2)*(l + 1)*(R**2*l*(l + 3)*(2*l - 1) + r**2*(2 - l)*(l + 1)*(2*l + 3))*(-R**(l - 1.0)*l*(l + 1.0)*(-R**2*(2.0*l - 1.0) + R**2*(2.0*l + 3.0))*(24.0*R**4*R**l*l**2 + 48.0*R**4*R**l*l + 18.0*R**4*R**l)/(R**l*(2.0*l + 1.0)*(8.0*l*(l + 1.0) - 6.0)*(-4.0*R**5*R**l*l**4 - 12.0*R**5*R**l*l**3 - 20.0*R**5*R**l*l**2 - 12.0*R**5*R**l*l)) - R**(l - 1.0)*(R**2*(l + 1.0)*(2.0*l + 3.0) - R**2*(l + 3.0)*(2.0*l - 1.0))*(-16.0*R**4*R**l*l**3 - 40.0*R**4*R**l*l**2 - 28.0*R**4*R**l*l - 6.0*R**4*R**l)/(R**l*(2.0*l + 1.0)*(8.0*l*(l + 1.0) - 6.0)*(-4.0*R**5*R**l*l**2 - 8.0*R**5*R**l*l - 12.0*R**5*R**l)))/((2*l + 1)*(8*l**2*(l + 2) + 2*l - 6)) + R**(l + 1)*r**(-l - 2)*(R**2*l*(2*l - 1) + r**2*(-2*l**2 + l + 6))*(-R**(l - 1.0)*l*(l + 1.0)*(-R**2*(2.0*l - 1.0) + R**2*(2.0*l + 3.0))*(-16.0*R**4*R**l*l**4 - 48.0*R**4*R**l*l**3 - 68.0*R**4*R**l*l**2 - 60.0*R**4*R**l*l - 18.0*R**4*R**l)/(R**l*(2.0*l + 1.0)*(8.0*l*(l + 1.0) - 6.0)*(-4.0*R**5*R**l*l**4 - 12.0*R**5*R**l*l**3 - 20.0*R**5*R**l*l**2 - 12.0*R**5*R**l*l)) - R**(l - 1.0)*(R**2*(l + 1.0)*(2.0*l + 3.0) - R**2*(l + 3.0)*(2.0*l - 1.0))*(24.0*R**4*R**l*l**2 + 48.0*R**4*R**l*l + 18.0*R**4*R**l)/(R**l*(2.0*l + 1.0)*(8.0*l*(l + 1.0) - 6.0)*(-4.0*R**5*R**l*l**2 - 8.0*R**5*R**l*l - 12.0*R**5*R**l)))/((2*l + 1)*(8*l*(l + 1) - 6)) + R**(l + 1)*r**(-l - 2)*(R**2*l*(2*l - 1) + r**2*(-2*l**2 + l + 6))/((2*l + 1)*(8*l*(l + 1) - 6))],\n",
       "[                                                                                                                                                                                                                                                                                                                                                                                                                                                                                                                                                                                                                                                                                                                                                                                                                                                                                                                                                                                                                                                                                                                                                                                                                                                                                                                                                                                                                                         0]])"
      ]
     },
     "execution_count": 14,
     "metadata": {},
     "output_type": "execute_result"
    }
   ],
   "source": [
    "u_out = u_rgR + single_layer_operator_rgR*f_w\n",
    "u_out"
   ]
  },
  {
   "cell_type": "code",
   "execution_count": 15,
   "id": "e7ec3442",
   "metadata": {},
   "outputs": [
    {
     "data": {
      "text/latex": [
       "$\\displaystyle \\left[\\begin{matrix}1.65568831168831\\\\-2.0 \\cdot 10^{-125}\\\\0\\end{matrix}\\right]$"
      ],
      "text/plain": [
       "Matrix([\n",
       "[1.65568831168831],\n",
       "[        -0.e-125],\n",
       "[               0]])"
      ]
     },
     "execution_count": 15,
     "metadata": {},
     "output_type": "execute_result"
    }
   ],
   "source": [
    "u_out.evalf(subs={r:25,R:20,l:2})"
   ]
  },
  {
   "cell_type": "markdown",
   "id": "14eac8b9",
   "metadata": {},
   "source": [
    "### Analytical expression for flow field inside the force layer"
   ]
  },
  {
   "cell_type": "code",
   "execution_count": 121,
   "id": "1564cc57",
   "metadata": {},
   "outputs": [
    {
     "data": {
      "text/latex": [
       "$\\displaystyle \\left[\\begin{matrix}\\frac{R^{l + 1} l r^{- l - 2} \\left(l + 1\\right) \\left(R^{2} \\cdot \\left(2 l - 1\\right) + r^{2} \\cdot \\left(2 l + 3\\right)\\right) \\left(- \\frac{R^{- l} R^{l - 1.0} l \\left(l + 1.0\\right) \\left(- R^{2} \\cdot \\left(2.0 l - 1.0\\right) + R^{2} \\cdot \\left(2.0 l + 3.0\\right)\\right) \\left(- 16.0 R^{4} R^{l} l^{4} - 48.0 R^{4} R^{l} l^{3} - 68.0 R^{4} R^{l} l^{2} - 60.0 R^{4} R^{l} l - 18.0 R^{4} R^{l}\\right)}{\\left(2.0 l + 1.0\\right) \\left(8.0 l \\left(l + 1.0\\right) - 6.0\\right) \\left(- 4.0 R^{5} R^{l} l^{4} - 12.0 R^{5} R^{l} l^{3} - 20.0 R^{5} R^{l} l^{2} - 12.0 R^{5} R^{l} l\\right)} - \\frac{R^{- l} R^{l - 1.0} \\left(R^{2} \\left(l + 1.0\\right) \\left(2.0 l + 3.0\\right) - R^{2} \\left(l + 3.0\\right) \\left(2.0 l - 1.0\\right)\\right) \\left(24.0 R^{4} R^{l} l^{2} + 48.0 R^{4} R^{l} l + 18.0 R^{4} R^{l}\\right)}{\\left(2.0 l + 1.0\\right) \\left(8.0 l \\left(l + 1.0\\right) - 6.0\\right) \\left(- 4.0 R^{5} R^{l} l^{2} - 8.0 R^{5} R^{l} l - 12.0 R^{5} R^{l}\\right)}\\right)}{\\left(2 l + 1\\right) \\left(8 l \\left(l + 1\\right) - 6\\right)} + \\frac{R^{l + 1} l r^{- l - 2} \\left(l + 1\\right) \\left(- R^{2} \\left(l + 3\\right) \\left(2 l - 1\\right) + r^{2} \\left(l + 1\\right) \\left(2 l + 3\\right)\\right) \\left(- \\frac{R^{- l} R^{l - 1.0} l \\left(l + 1.0\\right) \\left(- R^{2} \\cdot \\left(2.0 l - 1.0\\right) + R^{2} \\cdot \\left(2.0 l + 3.0\\right)\\right) \\left(24.0 R^{4} R^{l} l^{2} + 48.0 R^{4} R^{l} l + 18.0 R^{4} R^{l}\\right)}{\\left(2.0 l + 1.0\\right) \\left(8.0 l \\left(l + 1.0\\right) - 6.0\\right) \\left(- 4.0 R^{5} R^{l} l^{4} - 12.0 R^{5} R^{l} l^{3} - 20.0 R^{5} R^{l} l^{2} - 12.0 R^{5} R^{l} l\\right)} - \\frac{R^{- l} R^{l - 1.0} \\left(R^{2} \\left(l + 1.0\\right) \\left(2.0 l + 3.0\\right) - R^{2} \\left(l + 3.0\\right) \\left(2.0 l - 1.0\\right)\\right) \\left(- 16.0 R^{4} R^{l} l^{3} - 40.0 R^{4} R^{l} l^{2} - 28.0 R^{4} R^{l} l - 6.0 R^{4} R^{l}\\right)}{\\left(2.0 l + 1.0\\right) \\left(8.0 l \\left(l + 1.0\\right) - 6.0\\right) \\left(- 4.0 R^{5} R^{l} l^{2} - 8.0 R^{5} R^{l} l - 12.0 R^{5} R^{l}\\right)}\\right)}{\\left(2 l + 1\\right) \\left(8 l \\left(l + 1\\right) - 6\\right)} + \\frac{R^{- l} l r^{l - 1} \\left(l + 1\\right) \\left(R^{2} \\cdot \\left(2 l + 3\\right) - r^{2} \\cdot \\left(2 l - 1\\right)\\right)}{\\left(2 l + 1\\right) \\left(8 l \\left(l + 1\\right) - 6\\right)}\\\\\\frac{R^{l + 1} r^{- l - 2} \\left(l + 1\\right) \\left(R^{2} l \\left(l + 3\\right) \\left(2 l - 1\\right) + r^{2} \\cdot \\left(2 - l\\right) \\left(l + 1\\right) \\left(2 l + 3\\right)\\right) \\left(- \\frac{R^{- l} R^{l - 1.0} l \\left(l + 1.0\\right) \\left(- R^{2} \\cdot \\left(2.0 l - 1.0\\right) + R^{2} \\cdot \\left(2.0 l + 3.0\\right)\\right) \\left(24.0 R^{4} R^{l} l^{2} + 48.0 R^{4} R^{l} l + 18.0 R^{4} R^{l}\\right)}{\\left(2.0 l + 1.0\\right) \\left(8.0 l \\left(l + 1.0\\right) - 6.0\\right) \\left(- 4.0 R^{5} R^{l} l^{4} - 12.0 R^{5} R^{l} l^{3} - 20.0 R^{5} R^{l} l^{2} - 12.0 R^{5} R^{l} l\\right)} - \\frac{R^{- l} R^{l - 1.0} \\left(R^{2} \\left(l + 1.0\\right) \\left(2.0 l + 3.0\\right) - R^{2} \\left(l + 3.0\\right) \\left(2.0 l - 1.0\\right)\\right) \\left(- 16.0 R^{4} R^{l} l^{3} - 40.0 R^{4} R^{l} l^{2} - 28.0 R^{4} R^{l} l - 6.0 R^{4} R^{l}\\right)}{\\left(2.0 l + 1.0\\right) \\left(8.0 l \\left(l + 1.0\\right) - 6.0\\right) \\left(- 4.0 R^{5} R^{l} l^{2} - 8.0 R^{5} R^{l} l - 12.0 R^{5} R^{l}\\right)}\\right)}{\\left(2 l + 1\\right) \\left(8 l^{2} \\left(l + 2\\right) + 2 l - 6\\right)} + \\frac{R^{l + 1} r^{- l - 2} \\left(R^{2} l \\left(2 l - 1\\right) + r^{2} \\left(- 2 l^{2} + l + 6\\right)\\right) \\left(- \\frac{R^{- l} R^{l - 1.0} l \\left(l + 1.0\\right) \\left(- R^{2} \\cdot \\left(2.0 l - 1.0\\right) + R^{2} \\cdot \\left(2.0 l + 3.0\\right)\\right) \\left(- 16.0 R^{4} R^{l} l^{4} - 48.0 R^{4} R^{l} l^{3} - 68.0 R^{4} R^{l} l^{2} - 60.0 R^{4} R^{l} l - 18.0 R^{4} R^{l}\\right)}{\\left(2.0 l + 1.0\\right) \\left(8.0 l \\left(l + 1.0\\right) - 6.0\\right) \\left(- 4.0 R^{5} R^{l} l^{4} - 12.0 R^{5} R^{l} l^{3} - 20.0 R^{5} R^{l} l^{2} - 12.0 R^{5} R^{l} l\\right)} - \\frac{R^{- l} R^{l - 1.0} \\left(R^{2} \\left(l + 1.0\\right) \\left(2.0 l + 3.0\\right) - R^{2} \\left(l + 3.0\\right) \\left(2.0 l - 1.0\\right)\\right) \\left(24.0 R^{4} R^{l} l^{2} + 48.0 R^{4} R^{l} l + 18.0 R^{4} R^{l}\\right)}{\\left(2.0 l + 1.0\\right) \\left(8.0 l \\left(l + 1.0\\right) - 6.0\\right) \\left(- 4.0 R^{5} R^{l} l^{2} - 8.0 R^{5} R^{l} l - 12.0 R^{5} R^{l}\\right)}\\right)}{\\left(2 l + 1\\right) \\left(8 l \\left(l + 1\\right) - 6\\right)} + \\frac{R^{- l} r^{l - 1} \\left(R^{2} \\left(l + 1\\right) \\left(2 l + 3\\right) - r^{2} \\left(l + 3\\right) \\left(2 l - 1\\right)\\right)}{\\left(2 l + 1\\right) \\left(8 l \\left(l + 1\\right) - 6\\right)}\\\\0\\end{matrix}\\right]$"
      ],
      "text/plain": [
       "Matrix([\n",
       "[                      R**(l + 1)*l*r**(-l - 2)*(l + 1)*(R**2*(2*l - 1) + r**2*(2*l + 3))*(-R**(l - 1.0)*l*(l + 1.0)*(-R**2*(2.0*l - 1.0) + R**2*(2.0*l + 3.0))*(-16.0*R**4*R**l*l**4 - 48.0*R**4*R**l*l**3 - 68.0*R**4*R**l*l**2 - 60.0*R**4*R**l*l - 18.0*R**4*R**l)/(R**l*(2.0*l + 1.0)*(8.0*l*(l + 1.0) - 6.0)*(-4.0*R**5*R**l*l**4 - 12.0*R**5*R**l*l**3 - 20.0*R**5*R**l*l**2 - 12.0*R**5*R**l*l)) - R**(l - 1.0)*(R**2*(l + 1.0)*(2.0*l + 3.0) - R**2*(l + 3.0)*(2.0*l - 1.0))*(24.0*R**4*R**l*l**2 + 48.0*R**4*R**l*l + 18.0*R**4*R**l)/(R**l*(2.0*l + 1.0)*(8.0*l*(l + 1.0) - 6.0)*(-4.0*R**5*R**l*l**2 - 8.0*R**5*R**l*l - 12.0*R**5*R**l)))/((2*l + 1)*(8*l*(l + 1) - 6)) + R**(l + 1)*l*r**(-l - 2)*(l + 1)*(-R**2*(l + 3)*(2*l - 1) + r**2*(l + 1)*(2*l + 3))*(-R**(l - 1.0)*l*(l + 1.0)*(-R**2*(2.0*l - 1.0) + R**2*(2.0*l + 3.0))*(24.0*R**4*R**l*l**2 + 48.0*R**4*R**l*l + 18.0*R**4*R**l)/(R**l*(2.0*l + 1.0)*(8.0*l*(l + 1.0) - 6.0)*(-4.0*R**5*R**l*l**4 - 12.0*R**5*R**l*l**3 - 20.0*R**5*R**l*l**2 - 12.0*R**5*R**l*l)) - R**(l - 1.0)*(R**2*(l + 1.0)*(2.0*l + 3.0) - R**2*(l + 3.0)*(2.0*l - 1.0))*(-16.0*R**4*R**l*l**3 - 40.0*R**4*R**l*l**2 - 28.0*R**4*R**l*l - 6.0*R**4*R**l)/(R**l*(2.0*l + 1.0)*(8.0*l*(l + 1.0) - 6.0)*(-4.0*R**5*R**l*l**2 - 8.0*R**5*R**l*l - 12.0*R**5*R**l)))/((2*l + 1)*(8*l*(l + 1) - 6)) + l*r**(l - 1)*(l + 1)*(R**2*(2*l + 3) - r**2*(2*l - 1))/(R**l*(2*l + 1)*(8*l*(l + 1) - 6))],\n",
       "[R**(l + 1)*r**(-l - 2)*(l + 1)*(R**2*l*(l + 3)*(2*l - 1) + r**2*(2 - l)*(l + 1)*(2*l + 3))*(-R**(l - 1.0)*l*(l + 1.0)*(-R**2*(2.0*l - 1.0) + R**2*(2.0*l + 3.0))*(24.0*R**4*R**l*l**2 + 48.0*R**4*R**l*l + 18.0*R**4*R**l)/(R**l*(2.0*l + 1.0)*(8.0*l*(l + 1.0) - 6.0)*(-4.0*R**5*R**l*l**4 - 12.0*R**5*R**l*l**3 - 20.0*R**5*R**l*l**2 - 12.0*R**5*R**l*l)) - R**(l - 1.0)*(R**2*(l + 1.0)*(2.0*l + 3.0) - R**2*(l + 3.0)*(2.0*l - 1.0))*(-16.0*R**4*R**l*l**3 - 40.0*R**4*R**l*l**2 - 28.0*R**4*R**l*l - 6.0*R**4*R**l)/(R**l*(2.0*l + 1.0)*(8.0*l*(l + 1.0) - 6.0)*(-4.0*R**5*R**l*l**2 - 8.0*R**5*R**l*l - 12.0*R**5*R**l)))/((2*l + 1)*(8*l**2*(l + 2) + 2*l - 6)) + R**(l + 1)*r**(-l - 2)*(R**2*l*(2*l - 1) + r**2*(-2*l**2 + l + 6))*(-R**(l - 1.0)*l*(l + 1.0)*(-R**2*(2.0*l - 1.0) + R**2*(2.0*l + 3.0))*(-16.0*R**4*R**l*l**4 - 48.0*R**4*R**l*l**3 - 68.0*R**4*R**l*l**2 - 60.0*R**4*R**l*l - 18.0*R**4*R**l)/(R**l*(2.0*l + 1.0)*(8.0*l*(l + 1.0) - 6.0)*(-4.0*R**5*R**l*l**4 - 12.0*R**5*R**l*l**3 - 20.0*R**5*R**l*l**2 - 12.0*R**5*R**l*l)) - R**(l - 1.0)*(R**2*(l + 1.0)*(2.0*l + 3.0) - R**2*(l + 3.0)*(2.0*l - 1.0))*(24.0*R**4*R**l*l**2 + 48.0*R**4*R**l*l + 18.0*R**4*R**l)/(R**l*(2.0*l + 1.0)*(8.0*l*(l + 1.0) - 6.0)*(-4.0*R**5*R**l*l**2 - 8.0*R**5*R**l*l - 12.0*R**5*R**l)))/((2*l + 1)*(8*l*(l + 1) - 6)) + r**(l - 1)*(R**2*(l + 1)*(2*l + 3) - r**2*(l + 3)*(2*l - 1))/(R**l*(2*l + 1)*(8*l*(l + 1) - 6))],\n",
       "[                                                                                                                                                                                                                                                                                                                                                                                                                                                                                                                                                                                                                                                                                                                                                                                                                                                                                                                                                                                                                                                                                                                                                                                                                                                                                                                                                                                                                                        0]])"
      ]
     },
     "execution_count": 121,
     "metadata": {},
     "output_type": "execute_result"
    }
   ],
   "source": [
    "u_in = u_rlR + single_layer_operator_rgR*f_w\n",
    "u_in"
   ]
  },
  {
   "cell_type": "code",
   "execution_count": 129,
   "id": "fe71cabf",
   "metadata": {},
   "outputs": [
    {
     "data": {
      "text/latex": [
       "$\\displaystyle \\left[\\begin{matrix}0.0453025974025974\\\\-0.524235714285714\\\\0\\end{matrix}\\right]$"
      ],
      "text/plain": [
       "Matrix([\n",
       "[0.0453025974025974],\n",
       "[-0.524235714285714],\n",
       "[                 0]])"
      ]
     },
     "execution_count": 129,
     "metadata": {},
     "output_type": "execute_result"
    }
   ],
   "source": [
    "u_in.evalf(subs={r:25,R:20,l:2})"
   ]
  },
  {
   "cell_type": "markdown",
   "id": "36fca9cc",
   "metadata": {},
   "source": [
    "### Defining the required vector spherical harmonics"
   ]
  },
  {
   "cell_type": "code",
   "execution_count": 71,
   "id": "e556a80a",
   "metadata": {},
   "outputs": [],
   "source": [
    "from sympy import Ynm, Symbol, simplify\n",
    "from sympy.abc import l,m\n",
    "theta = Symbol(\"theta\")\n",
    "phi = Symbol(\"phi\")"
   ]
  },
  {
   "cell_type": "code",
   "execution_count": 72,
   "id": "949d61a5",
   "metadata": {},
   "outputs": [],
   "source": [
    "from sympy.vector import CoordSys3D\n",
    "P = CoordSys3D('P', \n",
    "               transformation='spherical', \n",
    "               vector_names=list('rtp'),\n",
    "               variable_names=list('VTP'))"
   ]
  },
  {
   "cell_type": "code",
   "execution_count": 81,
   "id": "85a8d5ef",
   "metadata": {
    "scrolled": true
   },
   "outputs": [],
   "source": [
    "Y_lm = Ynm(l,m,theta,phi)*P.r\n",
    "Ψ_lm = P.V*sp.vector.gradient(Ynm(l,m,P.T,P.P))"
   ]
  }
 ],
 "metadata": {
  "kernelspec": {
   "display_name": "Python 3 (ipykernel)",
   "language": "python",
   "name": "python3"
  },
  "language_info": {
   "codemirror_mode": {
    "name": "ipython",
    "version": 3
   },
   "file_extension": ".py",
   "mimetype": "text/x-python",
   "name": "python",
   "nbconvert_exporter": "python",
   "pygments_lexer": "ipython3",
   "version": "3.11.5"
  }
 },
 "nbformat": 4,
 "nbformat_minor": 5
}
