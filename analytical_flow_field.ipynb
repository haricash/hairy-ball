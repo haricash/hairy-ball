{
 "cells": [
  {
   "cell_type": "code",
   "execution_count": 1,
   "id": "1ee3fdd2",
   "metadata": {},
   "outputs": [],
   "source": [
    "import sympy as sp"
   ]
  },
  {
   "cell_type": "code",
   "execution_count": 2,
   "id": "16826823",
   "metadata": {},
   "outputs": [],
   "source": [
    "l,r,R = sp.symbols('l r R')"
   ]
  },
  {
   "cell_type": "markdown",
   "id": "5a1f2b2f",
   "metadata": {},
   "source": [
    "### Defining the matrices"
   ]
  },
  {
   "cell_type": "code",
   "execution_count": 3,
   "id": "283db694",
   "metadata": {},
   "outputs": [],
   "source": [
    "single_layer_operator_rgR = sp.matrices.Matrix([[r**(-2-l) * R**(1+l) * l*(l+1) * (\n",
    "                           (2*l+3)*r**2\n",
    "                           +\n",
    "                           (2*l-1)*R**2\n",
    "                           )/(\n",
    "                           (2*l+1) * (8*l*(l+1)-6)),        \n",
    "                           r**(-2-l) * R**(1+l) * l*(l+1) * (\n",
    "                           ((2*l+3)*(l+1)*r**2)\n",
    "                           -\n",
    "                           ((l+3)*(2*l-1)*R**2)\n",
    "                           )/(\n",
    "                           (2*l+1) * (8*l*(l+1)-6)),\n",
    "                            0],\n",
    "                             \n",
    "                           [r**(-2-l) * R**(1+l) * (\n",
    "                           (6+l-2*l**2)*r**2\n",
    "                           +\n",
    "                           l*(2*l-1)*R**2\n",
    "                           )/(\n",
    "                           (2*l+1) * (8*l*(l+1)-6)),\n",
    "                           r**(-2-l) * R**(1+l) * (l+1) * (\n",
    "                           (2-l)*(1+l)*(2*l+3)*r**2\n",
    "                           +\n",
    "                           l*(l+3)*(2*l-1)*R**2\n",
    "                           )/(\n",
    "                           (2*l+1)*(2*l + 8*l**2*(l+2) - 6)),\n",
    "                            0],\n",
    "                             \n",
    "                           [0,\n",
    "                            0,\n",
    "                           (R**(l+2))/((2*l+1)*(r**(l+1)))]])"
   ]
  },
  {
   "cell_type": "code",
   "execution_count": 4,
   "id": "de1c3bf8",
   "metadata": {},
   "outputs": [
    {
     "data": {
      "text/latex": [
       "$\\displaystyle \\left[\\begin{matrix}\\frac{R^{l + 1} l r^{- l - 2} \\left(l + 1\\right) \\left(R^{2} \\cdot \\left(2 l - 1\\right) + r^{2} \\cdot \\left(2 l + 3\\right)\\right)}{\\left(2 l + 1\\right) \\left(8 l \\left(l + 1\\right) - 6\\right)} & \\frac{R^{l + 1} l r^{- l - 2} \\left(l + 1\\right) \\left(- R^{2} \\left(l + 3\\right) \\left(2 l - 1\\right) + r^{2} \\left(l + 1\\right) \\left(2 l + 3\\right)\\right)}{\\left(2 l + 1\\right) \\left(8 l \\left(l + 1\\right) - 6\\right)} & 0\\\\\\frac{R^{l + 1} r^{- l - 2} \\left(R^{2} l \\left(2 l - 1\\right) + r^{2} \\left(- 2 l^{2} + l + 6\\right)\\right)}{\\left(2 l + 1\\right) \\left(8 l \\left(l + 1\\right) - 6\\right)} & \\frac{R^{l + 1} r^{- l - 2} \\left(l + 1\\right) \\left(R^{2} l \\left(l + 3\\right) \\left(2 l - 1\\right) + r^{2} \\cdot \\left(2 - l\\right) \\left(l + 1\\right) \\left(2 l + 3\\right)\\right)}{\\left(2 l + 1\\right) \\left(8 l^{2} \\left(l + 2\\right) + 2 l - 6\\right)} & 0\\\\0 & 0 & \\frac{R^{l + 2} r^{- l - 1}}{2 l + 1}\\end{matrix}\\right]$"
      ],
      "text/plain": [
       "Matrix([\n",
       "[R**(l + 1)*l*r**(-l - 2)*(l + 1)*(R**2*(2*l - 1) + r**2*(2*l + 3))/((2*l + 1)*(8*l*(l + 1) - 6)),                 R**(l + 1)*l*r**(-l - 2)*(l + 1)*(-R**2*(l + 3)*(2*l - 1) + r**2*(l + 1)*(2*l + 3))/((2*l + 1)*(8*l*(l + 1) - 6)),                                0],\n",
       "[R**(l + 1)*r**(-l - 2)*(R**2*l*(2*l - 1) + r**2*(-2*l**2 + l + 6))/((2*l + 1)*(8*l*(l + 1) - 6)), R**(l + 1)*r**(-l - 2)*(l + 1)*(R**2*l*(l + 3)*(2*l - 1) + r**2*(2 - l)*(l + 1)*(2*l + 3))/((2*l + 1)*(8*l**2*(l + 2) + 2*l - 6)),                                0],\n",
       "[                                                                                               0,                                                                                                                                 0, R**(l + 2)*r**(-l - 1)/(2*l + 1)]])"
      ]
     },
     "execution_count": 4,
     "metadata": {},
     "output_type": "execute_result"
    }
   ],
   "source": [
    "single_layer_operator_rgR"
   ]
  },
  {
   "cell_type": "code",
   "execution_count": 5,
   "id": "2f220c06",
   "metadata": {},
   "outputs": [],
   "source": [
    "single_layer_operator_rlR = sp.matrices.Matrix([[r**(l-1) * R**(-l) * l*(l+1) * (\n",
    "                           (2*l+3)*R**2\n",
    "                           -\n",
    "                           (2*l-1)*r**2\n",
    "                           )/(\n",
    "                           (2*l+1) * (8*l*(l+1)-6)),\n",
    "                           r**(l-1) * R**(-l) * l*(l+1)*(\n",
    "                           (6 * R**2)\n",
    "                           +\n",
    "                           (l*(2*l-1)*(r-R)*(r+R))\n",
    "                           )/(\n",
    "                           (2*l+1) * (8*l*(l+1)-6)),\n",
    "                           0],\n",
    "                                                \n",
    "                           [r**(l-1) * R**(-l) * (\n",
    "                           (1+l)*(2*l+3)*R**2\n",
    "                           -\n",
    "                           (l+3)*(2*l-1)*r**2\n",
    "                           )/(\n",
    "                           (2*l+1) * (8*l*(l+1)-6)),\n",
    "                           r**(l-1) * R**(-l) * (l+1) * (\n",
    "                           l*(l+3)*(2*l-1)*r**2\n",
    "                           -\n",
    "                           (l-2)*(l+1)*(2*l+3)*R**2\n",
    "                           )/(\n",
    "                           (2*l+1)*(2*l + 8*l**2*(l+2) - 6)),\n",
    "                           0],\n",
    "\n",
    "                           [0,\n",
    "                            0,\n",
    "                            r**l/((2*l+1)*R**(l-1))]])"
   ]
  },
  {
   "cell_type": "code",
   "execution_count": 6,
   "id": "575f481f",
   "metadata": {
    "scrolled": true
   },
   "outputs": [
    {
     "data": {
      "text/latex": [
       "$\\displaystyle \\left[\\begin{matrix}\\frac{R^{- l} l r^{l - 1} \\left(l + 1\\right) \\left(R^{2} \\cdot \\left(2 l + 3\\right) - r^{2} \\cdot \\left(2 l - 1\\right)\\right)}{\\left(2 l + 1\\right) \\left(8 l \\left(l + 1\\right) - 6\\right)} & \\frac{R^{- l} l r^{l - 1} \\cdot \\left(6 R^{2} + l \\left(- R + r\\right) \\left(R + r\\right) \\left(2 l - 1\\right)\\right) \\left(l + 1\\right)}{\\left(2 l + 1\\right) \\left(8 l \\left(l + 1\\right) - 6\\right)} & 0\\\\\\frac{R^{- l} r^{l - 1} \\left(R^{2} \\left(l + 1\\right) \\left(2 l + 3\\right) - r^{2} \\left(l + 3\\right) \\left(2 l - 1\\right)\\right)}{\\left(2 l + 1\\right) \\left(8 l \\left(l + 1\\right) - 6\\right)} & \\frac{R^{- l} r^{l - 1} \\left(l + 1\\right) \\left(- R^{2} \\left(l - 2\\right) \\left(l + 1\\right) \\left(2 l + 3\\right) + l r^{2} \\left(l + 3\\right) \\left(2 l - 1\\right)\\right)}{\\left(2 l + 1\\right) \\left(8 l^{2} \\left(l + 2\\right) + 2 l - 6\\right)} & 0\\\\0 & 0 & \\frac{R^{1 - l} r^{l}}{2 l + 1}\\end{matrix}\\right]$"
      ],
      "text/plain": [
       "Matrix([\n",
       "[      l*r**(l - 1)*(l + 1)*(R**2*(2*l + 3) - r**2*(2*l - 1))/(R**l*(2*l + 1)*(8*l*(l + 1) - 6)),                             l*r**(l - 1)*(6*R**2 + l*(-R + r)*(R + r)*(2*l - 1))*(l + 1)/(R**l*(2*l + 1)*(8*l*(l + 1) - 6)),                         0],\n",
       "[r**(l - 1)*(R**2*(l + 1)*(2*l + 3) - r**2*(l + 3)*(2*l - 1))/(R**l*(2*l + 1)*(8*l*(l + 1) - 6)), r**(l - 1)*(l + 1)*(-R**2*(l - 2)*(l + 1)*(2*l + 3) + l*r**2*(l + 3)*(2*l - 1))/(R**l*(2*l + 1)*(8*l**2*(l + 2) + 2*l - 6)),                         0],\n",
       "[                                                                                              0,                                                                                                                           0, R**(1 - l)*r**l/(2*l + 1)]])"
      ]
     },
     "execution_count": 6,
     "metadata": {},
     "output_type": "execute_result"
    }
   ],
   "source": [
    "single_layer_operator_rlR"
   ]
  },
  {
   "cell_type": "code",
   "execution_count": 7,
   "id": "9675bd3a",
   "metadata": {},
   "outputs": [],
   "source": [
    "layer_force = sp.matrices.Matrix([[1],[0],[0]])"
   ]
  },
  {
   "cell_type": "markdown",
   "id": "38644485",
   "metadata": {},
   "source": [
    "### This is the flow field contribution from f_l for r<R (S applied on Y_2m)"
   ]
  },
  {
   "cell_type": "code",
   "execution_count": 10,
   "id": "a61e09c5",
   "metadata": {},
   "outputs": [
    {
     "data": {
      "text/latex": [
       "$\\displaystyle \\left[\\begin{matrix}\\frac{R^{- l} R^{l - 1.0} l \\left(l + 1.0\\right) \\left(- R^{2} \\cdot \\left(2.0 l - 1.0\\right) + R^{2} \\cdot \\left(2.0 l + 3.0\\right)\\right)}{\\left(2.0 l + 1.0\\right) \\left(8.0 l \\left(l + 1.0\\right) - 6.0\\right)}\\\\\\frac{R^{- l} R^{l - 1.0} \\left(R^{2} \\left(l + 1.0\\right) \\left(2.0 l + 3.0\\right) - R^{2} \\left(l + 3.0\\right) \\left(2.0 l - 1.0\\right)\\right)}{\\left(2.0 l + 1.0\\right) \\left(8.0 l \\left(l + 1.0\\right) - 6.0\\right)}\\\\0\\end{matrix}\\right]$"
      ],
      "text/plain": [
       "Matrix([\n",
       "[       R**(l - 1.0)*l*(l + 1.0)*(-R**2*(2.0*l - 1.0) + R**2*(2.0*l + 3.0))/(R**l*(2.0*l + 1.0)*(8.0*l*(l + 1.0) - 6.0))],\n",
       "[R**(l - 1.0)*(R**2*(l + 1.0)*(2.0*l + 3.0) - R**2*(l + 3.0)*(2.0*l - 1.0))/(R**l*(2.0*l + 1.0)*(8.0*l*(l + 1.0) - 6.0))],\n",
       "[                                                                                                                      0]])"
      ]
     },
     "execution_count": 10,
     "metadata": {},
     "output_type": "execute_result"
    }
   ],
   "source": [
    "u_rlR = single_layer_operator_rlR * layer_force\n",
    "u_w = u_rlR.evalf(subs={r:R})\n",
    "u_w"
   ]
  },
  {
   "cell_type": "markdown",
   "id": "7464771e",
   "metadata": {},
   "source": [
    "### The flow field at r>R due to Y_2m forcing"
   ]
  },
  {
   "cell_type": "code",
   "execution_count": 11,
   "id": "9482d310",
   "metadata": {},
   "outputs": [
    {
     "data": {
      "text/latex": [
       "$\\displaystyle \\left[\\begin{matrix}\\frac{0.0285714285714286 R^{3} \\cdot \\left(3.0 R^{2} + 7.0 r^{2}\\right)}{r^{4}}\\\\\\frac{0.0285714285714286 R^{5}}{r^{4}}\\\\0\\end{matrix}\\right]$"
      ],
      "text/plain": [
       "Matrix([\n",
       "[0.0285714285714286*R**3*(3.0*R**2 + 7.0*r**2)/r**4],\n",
       "[                      0.0285714285714286*R**5/r**4],\n",
       "[                                                 0]])"
      ]
     },
     "execution_count": 11,
     "metadata": {},
     "output_type": "execute_result"
    }
   ],
   "source": [
    "u_rgR = single_layer_operator_rgR * layer_force\n",
    "u_rgR.evalf(subs={l:2})"
   ]
  },
  {
   "cell_type": "markdown",
   "id": "e110ec97",
   "metadata": {},
   "source": [
    "### The inverse matrix at the wall (for f_w)"
   ]
  },
  {
   "cell_type": "code",
   "execution_count": 12,
   "id": "d091fb4c",
   "metadata": {},
   "outputs": [
    {
     "data": {
      "text/latex": [
       "$\\displaystyle \\left[\\begin{matrix}\\frac{- 8 R^{2} l^{5} r^{2} r^{l} - 36 R^{2} l^{4} r^{2} r^{l} - 34 R^{2} l^{3} r^{2} r^{l} + 9 R^{2} l^{2} r^{2} r^{l} + 9 R^{2} l r^{2} r^{l} + 8 l^{5} r^{4} r^{l} + 20 l^{4} r^{4} r^{l} - 14 l^{3} r^{4} r^{l} - 77 l^{2} r^{4} r^{l} - 69 l r^{4} r^{l} - 18 r^{4} r^{l}}{- 2 R^{5} R^{l} l^{5} - 7 R^{5} R^{l} l^{4} - 2 R^{5} R^{l} l^{3} + 3 R^{5} R^{l} l^{2} + 2 R^{3} R^{l} l^{5} r^{2} + 3 R^{3} R^{l} l^{4} r^{2} - 10 R^{3} R^{l} l^{3} r^{2} - 23 R^{3} R^{l} l^{2} r^{2} - 12 R^{3} R^{l} l r^{2}} & \\frac{- 8 R^{2} l^{4} r^{2} r^{l} - 36 R^{2} l^{3} r^{2} r^{l} - 34 R^{2} l^{2} r^{2} r^{l} + 9 R^{2} l r^{2} r^{l} + 9 R^{2} r^{2} r^{l} + 8 l^{4} r^{4} r^{l} + 36 l^{3} r^{4} r^{l} + 58 l^{2} r^{4} r^{l} + 39 l r^{4} r^{l} + 9 r^{4} r^{l}}{- 2 R^{5} R^{l} l^{3} - 5 R^{5} R^{l} l^{2} + 3 R^{5} R^{l} l + 2 R^{3} R^{l} l^{3} r^{2} + R^{3} R^{l} l^{2} r^{2} - 11 R^{3} R^{l} l r^{2} - 12 R^{3} R^{l} r^{2}} & 0\\\\\\frac{8 R^{2} l^{4} r^{2} r^{l} + 12 R^{2} l^{3} r^{2} r^{l} - 2 R^{2} l^{2} r^{2} r^{l} - 3 R^{2} l r^{2} r^{l} - 8 l^{4} r^{4} r^{l} - 12 l^{3} r^{4} r^{l} + 26 l^{2} r^{4} r^{l} + 51 l r^{4} r^{l} + 18 r^{4} r^{l}}{- 2 R^{5} R^{l} l^{5} - 7 R^{5} R^{l} l^{4} - 2 R^{5} R^{l} l^{3} + 3 R^{5} R^{l} l^{2} + 2 R^{3} R^{l} l^{5} r^{2} + 3 R^{3} R^{l} l^{4} r^{2} - 10 R^{3} R^{l} l^{3} r^{2} - 23 R^{3} R^{l} l^{2} r^{2} - 12 R^{3} R^{l} l r^{2}} & \\frac{- 8 R^{2} l^{3} r^{2} r^{l} - 12 R^{2} l^{2} r^{2} r^{l} + 2 R^{2} l r^{2} r^{l} + 3 R^{2} r^{2} r^{l} - 8 l^{3} r^{4} r^{l} - 28 l^{2} r^{4} r^{l} - 30 l r^{4} r^{l} - 9 r^{4} r^{l}}{- 2 R^{5} R^{l} l^{3} - 5 R^{5} R^{l} l^{2} + 3 R^{5} R^{l} l + 2 R^{3} R^{l} l^{3} r^{2} + R^{3} R^{l} l^{2} r^{2} - 11 R^{3} R^{l} l r^{2} - 12 R^{3} R^{l} r^{2}} & 0\\\\0 & 0 & \\frac{2 R^{- l} l r r^{l}}{R^{2}} + \\frac{R^{- l} r r^{l}}{R^{2}}\\end{matrix}\\right]$"
      ],
      "text/plain": [
       "Matrix([\n",
       "[(-8*R**2*l**5*r**2*r**l - 36*R**2*l**4*r**2*r**l - 34*R**2*l**3*r**2*r**l + 9*R**2*l**2*r**2*r**l + 9*R**2*l*r**2*r**l + 8*l**5*r**4*r**l + 20*l**4*r**4*r**l - 14*l**3*r**4*r**l - 77*l**2*r**4*r**l - 69*l*r**4*r**l - 18*r**4*r**l)/(-2*R**5*R**l*l**5 - 7*R**5*R**l*l**4 - 2*R**5*R**l*l**3 + 3*R**5*R**l*l**2 + 2*R**3*R**l*l**5*r**2 + 3*R**3*R**l*l**4*r**2 - 10*R**3*R**l*l**3*r**2 - 23*R**3*R**l*l**2*r**2 - 12*R**3*R**l*l*r**2), (-8*R**2*l**4*r**2*r**l - 36*R**2*l**3*r**2*r**l - 34*R**2*l**2*r**2*r**l + 9*R**2*l*r**2*r**l + 9*R**2*r**2*r**l + 8*l**4*r**4*r**l + 36*l**3*r**4*r**l + 58*l**2*r**4*r**l + 39*l*r**4*r**l + 9*r**4*r**l)/(-2*R**5*R**l*l**3 - 5*R**5*R**l*l**2 + 3*R**5*R**l*l + 2*R**3*R**l*l**3*r**2 + R**3*R**l*l**2*r**2 - 11*R**3*R**l*l*r**2 - 12*R**3*R**l*r**2),                                           0],\n",
       "[                                              (8*R**2*l**4*r**2*r**l + 12*R**2*l**3*r**2*r**l - 2*R**2*l**2*r**2*r**l - 3*R**2*l*r**2*r**l - 8*l**4*r**4*r**l - 12*l**3*r**4*r**l + 26*l**2*r**4*r**l + 51*l*r**4*r**l + 18*r**4*r**l)/(-2*R**5*R**l*l**5 - 7*R**5*R**l*l**4 - 2*R**5*R**l*l**3 + 3*R**5*R**l*l**2 + 2*R**3*R**l*l**5*r**2 + 3*R**3*R**l*l**4*r**2 - 10*R**3*R**l*l**3*r**2 - 23*R**3*R**l*l**2*r**2 - 12*R**3*R**l*l*r**2),                                              (-8*R**2*l**3*r**2*r**l - 12*R**2*l**2*r**2*r**l + 2*R**2*l*r**2*r**l + 3*R**2*r**2*r**l - 8*l**3*r**4*r**l - 28*l**2*r**4*r**l - 30*l*r**4*r**l - 9*r**4*r**l)/(-2*R**5*R**l*l**3 - 5*R**5*R**l*l**2 + 3*R**5*R**l*l + 2*R**3*R**l*l**3*r**2 + R**3*R**l*l**2*r**2 - 11*R**3*R**l*l*r**2 - 12*R**3*R**l*r**2),                                           0],\n",
       "[                                                                                                                                                                                                                                                                                                                                                                                                                                          0,                                                                                                                                                                                                                                                                                                                                                           0, 2*l*r*r**l/(R**2*R**l) + r*r**l/(R**2*R**l)]])"
      ]
     },
     "execution_count": 12,
     "metadata": {},
     "output_type": "execute_result"
    }
   ],
   "source": [
    "S_inv = single_layer_operator_rgR.inv()\n",
    "S_inv"
   ]
  },
  {
   "cell_type": "markdown",
   "id": "8921e91d",
   "metadata": {},
   "source": [
    "### The force at the wall"
   ]
  },
  {
   "cell_type": "code",
   "execution_count": 13,
   "id": "cd9c8087",
   "metadata": {},
   "outputs": [],
   "source": [
    "f_w = -S_inv * u_w\n",
    "f_w = f_w.evalf(subs={r:R})"
   ]
  },
  {
   "cell_type": "code",
   "execution_count": 18,
   "id": "851da194",
   "metadata": {},
   "outputs": [
    {
     "data": {
      "text/latex": [
       "$\\displaystyle \\left[\\begin{matrix}- 0.114285714285714 R\\\\- 0.0285714285714286 R\\\\0\\end{matrix}\\right]$"
      ],
      "text/plain": [
       "Matrix([\n",
       "[ -0.114285714285714*R],\n",
       "[-0.0285714285714286*R],\n",
       "[                    0]])"
      ]
     },
     "execution_count": 18,
     "metadata": {},
     "output_type": "execute_result"
    }
   ],
   "source": [
    "u_rgR_prime = single_layer_operator_rgR*f_w\n",
    "u_rgR_prime.evalf(subs={r:R, l:2})"
   ]
  },
  {
   "cell_type": "markdown",
   "id": "5cc5985e",
   "metadata": {},
   "source": [
    "### Analytical expression for flow field at a point outside the force layer"
   ]
  },
  {
   "cell_type": "code",
   "execution_count": 14,
   "id": "666493c7",
   "metadata": {
    "scrolled": true
   },
   "outputs": [
    {
     "data": {
      "text/latex": [
       "$\\displaystyle \\left[\\begin{matrix}\\frac{R^{l + 1} l r^{- l - 2} \\left(l + 1\\right) \\left(R^{2} \\cdot \\left(2 l - 1\\right) + r^{2} \\cdot \\left(2 l + 3\\right)\\right) \\left(- \\frac{R^{- l} R^{l - 1.0} l \\left(l + 1.0\\right) \\left(- R^{2} \\cdot \\left(2.0 l - 1.0\\right) + R^{2} \\cdot \\left(2.0 l + 3.0\\right)\\right) \\left(- 16.0 R^{4} R^{l} l^{4} - 48.0 R^{4} R^{l} l^{3} - 68.0 R^{4} R^{l} l^{2} - 60.0 R^{4} R^{l} l - 18.0 R^{4} R^{l}\\right)}{\\left(2.0 l + 1.0\\right) \\left(8.0 l \\left(l + 1.0\\right) - 6.0\\right) \\left(- 4.0 R^{5} R^{l} l^{4} - 12.0 R^{5} R^{l} l^{3} - 20.0 R^{5} R^{l} l^{2} - 12.0 R^{5} R^{l} l\\right)} - \\frac{R^{- l} R^{l - 1.0} \\left(R^{2} \\left(l + 1.0\\right) \\left(2.0 l + 3.0\\right) - R^{2} \\left(l + 3.0\\right) \\left(2.0 l - 1.0\\right)\\right) \\left(24.0 R^{4} R^{l} l^{2} + 48.0 R^{4} R^{l} l + 18.0 R^{4} R^{l}\\right)}{\\left(2.0 l + 1.0\\right) \\left(8.0 l \\left(l + 1.0\\right) - 6.0\\right) \\left(- 4.0 R^{5} R^{l} l^{2} - 8.0 R^{5} R^{l} l - 12.0 R^{5} R^{l}\\right)}\\right)}{\\left(2 l + 1\\right) \\left(8 l \\left(l + 1\\right) - 6\\right)} + \\frac{R^{l + 1} l r^{- l - 2} \\left(l + 1\\right) \\left(R^{2} \\cdot \\left(2 l - 1\\right) + r^{2} \\cdot \\left(2 l + 3\\right)\\right)}{\\left(2 l + 1\\right) \\left(8 l \\left(l + 1\\right) - 6\\right)} + \\frac{R^{l + 1} l r^{- l - 2} \\left(l + 1\\right) \\left(- R^{2} \\left(l + 3\\right) \\left(2 l - 1\\right) + r^{2} \\left(l + 1\\right) \\left(2 l + 3\\right)\\right) \\left(- \\frac{R^{- l} R^{l - 1.0} l \\left(l + 1.0\\right) \\left(- R^{2} \\cdot \\left(2.0 l - 1.0\\right) + R^{2} \\cdot \\left(2.0 l + 3.0\\right)\\right) \\left(24.0 R^{4} R^{l} l^{2} + 48.0 R^{4} R^{l} l + 18.0 R^{4} R^{l}\\right)}{\\left(2.0 l + 1.0\\right) \\left(8.0 l \\left(l + 1.0\\right) - 6.0\\right) \\left(- 4.0 R^{5} R^{l} l^{4} - 12.0 R^{5} R^{l} l^{3} - 20.0 R^{5} R^{l} l^{2} - 12.0 R^{5} R^{l} l\\right)} - \\frac{R^{- l} R^{l - 1.0} \\left(R^{2} \\left(l + 1.0\\right) \\left(2.0 l + 3.0\\right) - R^{2} \\left(l + 3.0\\right) \\left(2.0 l - 1.0\\right)\\right) \\left(- 16.0 R^{4} R^{l} l^{3} - 40.0 R^{4} R^{l} l^{2} - 28.0 R^{4} R^{l} l - 6.0 R^{4} R^{l}\\right)}{\\left(2.0 l + 1.0\\right) \\left(8.0 l \\left(l + 1.0\\right) - 6.0\\right) \\left(- 4.0 R^{5} R^{l} l^{2} - 8.0 R^{5} R^{l} l - 12.0 R^{5} R^{l}\\right)}\\right)}{\\left(2 l + 1\\right) \\left(8 l \\left(l + 1\\right) - 6\\right)}\\\\\\frac{R^{l + 1} r^{- l - 2} \\left(l + 1\\right) \\left(R^{2} l \\left(l + 3\\right) \\left(2 l - 1\\right) + r^{2} \\cdot \\left(2 - l\\right) \\left(l + 1\\right) \\left(2 l + 3\\right)\\right) \\left(- \\frac{R^{- l} R^{l - 1.0} l \\left(l + 1.0\\right) \\left(- R^{2} \\cdot \\left(2.0 l - 1.0\\right) + R^{2} \\cdot \\left(2.0 l + 3.0\\right)\\right) \\left(24.0 R^{4} R^{l} l^{2} + 48.0 R^{4} R^{l} l + 18.0 R^{4} R^{l}\\right)}{\\left(2.0 l + 1.0\\right) \\left(8.0 l \\left(l + 1.0\\right) - 6.0\\right) \\left(- 4.0 R^{5} R^{l} l^{4} - 12.0 R^{5} R^{l} l^{3} - 20.0 R^{5} R^{l} l^{2} - 12.0 R^{5} R^{l} l\\right)} - \\frac{R^{- l} R^{l - 1.0} \\left(R^{2} \\left(l + 1.0\\right) \\left(2.0 l + 3.0\\right) - R^{2} \\left(l + 3.0\\right) \\left(2.0 l - 1.0\\right)\\right) \\left(- 16.0 R^{4} R^{l} l^{3} - 40.0 R^{4} R^{l} l^{2} - 28.0 R^{4} R^{l} l - 6.0 R^{4} R^{l}\\right)}{\\left(2.0 l + 1.0\\right) \\left(8.0 l \\left(l + 1.0\\right) - 6.0\\right) \\left(- 4.0 R^{5} R^{l} l^{2} - 8.0 R^{5} R^{l} l - 12.0 R^{5} R^{l}\\right)}\\right)}{\\left(2 l + 1\\right) \\left(8 l^{2} \\left(l + 2\\right) + 2 l - 6\\right)} + \\frac{R^{l + 1} r^{- l - 2} \\left(R^{2} l \\left(2 l - 1\\right) + r^{2} \\left(- 2 l^{2} + l + 6\\right)\\right) \\left(- \\frac{R^{- l} R^{l - 1.0} l \\left(l + 1.0\\right) \\left(- R^{2} \\cdot \\left(2.0 l - 1.0\\right) + R^{2} \\cdot \\left(2.0 l + 3.0\\right)\\right) \\left(- 16.0 R^{4} R^{l} l^{4} - 48.0 R^{4} R^{l} l^{3} - 68.0 R^{4} R^{l} l^{2} - 60.0 R^{4} R^{l} l - 18.0 R^{4} R^{l}\\right)}{\\left(2.0 l + 1.0\\right) \\left(8.0 l \\left(l + 1.0\\right) - 6.0\\right) \\left(- 4.0 R^{5} R^{l} l^{4} - 12.0 R^{5} R^{l} l^{3} - 20.0 R^{5} R^{l} l^{2} - 12.0 R^{5} R^{l} l\\right)} - \\frac{R^{- l} R^{l - 1.0} \\left(R^{2} \\left(l + 1.0\\right) \\left(2.0 l + 3.0\\right) - R^{2} \\left(l + 3.0\\right) \\left(2.0 l - 1.0\\right)\\right) \\left(24.0 R^{4} R^{l} l^{2} + 48.0 R^{4} R^{l} l + 18.0 R^{4} R^{l}\\right)}{\\left(2.0 l + 1.0\\right) \\left(8.0 l \\left(l + 1.0\\right) - 6.0\\right) \\left(- 4.0 R^{5} R^{l} l^{2} - 8.0 R^{5} R^{l} l - 12.0 R^{5} R^{l}\\right)}\\right)}{\\left(2 l + 1\\right) \\left(8 l \\left(l + 1\\right) - 6\\right)} + \\frac{R^{l + 1} r^{- l - 2} \\left(R^{2} l \\left(2 l - 1\\right) + r^{2} \\left(- 2 l^{2} + l + 6\\right)\\right)}{\\left(2 l + 1\\right) \\left(8 l \\left(l + 1\\right) - 6\\right)}\\\\0\\end{matrix}\\right]$"
      ],
      "text/plain": [
       "Matrix([\n",
       "[                R**(l + 1)*l*r**(-l - 2)*(l + 1)*(R**2*(2*l - 1) + r**2*(2*l + 3))*(-R**(l - 1.0)*l*(l + 1.0)*(-R**2*(2.0*l - 1.0) + R**2*(2.0*l + 3.0))*(-16.0*R**4*R**l*l**4 - 48.0*R**4*R**l*l**3 - 68.0*R**4*R**l*l**2 - 60.0*R**4*R**l*l - 18.0*R**4*R**l)/(R**l*(2.0*l + 1.0)*(8.0*l*(l + 1.0) - 6.0)*(-4.0*R**5*R**l*l**4 - 12.0*R**5*R**l*l**3 - 20.0*R**5*R**l*l**2 - 12.0*R**5*R**l*l)) - R**(l - 1.0)*(R**2*(l + 1.0)*(2.0*l + 3.0) - R**2*(l + 3.0)*(2.0*l - 1.0))*(24.0*R**4*R**l*l**2 + 48.0*R**4*R**l*l + 18.0*R**4*R**l)/(R**l*(2.0*l + 1.0)*(8.0*l*(l + 1.0) - 6.0)*(-4.0*R**5*R**l*l**2 - 8.0*R**5*R**l*l - 12.0*R**5*R**l)))/((2*l + 1)*(8*l*(l + 1) - 6)) + R**(l + 1)*l*r**(-l - 2)*(l + 1)*(R**2*(2*l - 1) + r**2*(2*l + 3))/((2*l + 1)*(8*l*(l + 1) - 6)) + R**(l + 1)*l*r**(-l - 2)*(l + 1)*(-R**2*(l + 3)*(2*l - 1) + r**2*(l + 1)*(2*l + 3))*(-R**(l - 1.0)*l*(l + 1.0)*(-R**2*(2.0*l - 1.0) + R**2*(2.0*l + 3.0))*(24.0*R**4*R**l*l**2 + 48.0*R**4*R**l*l + 18.0*R**4*R**l)/(R**l*(2.0*l + 1.0)*(8.0*l*(l + 1.0) - 6.0)*(-4.0*R**5*R**l*l**4 - 12.0*R**5*R**l*l**3 - 20.0*R**5*R**l*l**2 - 12.0*R**5*R**l*l)) - R**(l - 1.0)*(R**2*(l + 1.0)*(2.0*l + 3.0) - R**2*(l + 3.0)*(2.0*l - 1.0))*(-16.0*R**4*R**l*l**3 - 40.0*R**4*R**l*l**2 - 28.0*R**4*R**l*l - 6.0*R**4*R**l)/(R**l*(2.0*l + 1.0)*(8.0*l*(l + 1.0) - 6.0)*(-4.0*R**5*R**l*l**2 - 8.0*R**5*R**l*l - 12.0*R**5*R**l)))/((2*l + 1)*(8*l*(l + 1) - 6))],\n",
       "[R**(l + 1)*r**(-l - 2)*(l + 1)*(R**2*l*(l + 3)*(2*l - 1) + r**2*(2 - l)*(l + 1)*(2*l + 3))*(-R**(l - 1.0)*l*(l + 1.0)*(-R**2*(2.0*l - 1.0) + R**2*(2.0*l + 3.0))*(24.0*R**4*R**l*l**2 + 48.0*R**4*R**l*l + 18.0*R**4*R**l)/(R**l*(2.0*l + 1.0)*(8.0*l*(l + 1.0) - 6.0)*(-4.0*R**5*R**l*l**4 - 12.0*R**5*R**l*l**3 - 20.0*R**5*R**l*l**2 - 12.0*R**5*R**l*l)) - R**(l - 1.0)*(R**2*(l + 1.0)*(2.0*l + 3.0) - R**2*(l + 3.0)*(2.0*l - 1.0))*(-16.0*R**4*R**l*l**3 - 40.0*R**4*R**l*l**2 - 28.0*R**4*R**l*l - 6.0*R**4*R**l)/(R**l*(2.0*l + 1.0)*(8.0*l*(l + 1.0) - 6.0)*(-4.0*R**5*R**l*l**2 - 8.0*R**5*R**l*l - 12.0*R**5*R**l)))/((2*l + 1)*(8*l**2*(l + 2) + 2*l - 6)) + R**(l + 1)*r**(-l - 2)*(R**2*l*(2*l - 1) + r**2*(-2*l**2 + l + 6))*(-R**(l - 1.0)*l*(l + 1.0)*(-R**2*(2.0*l - 1.0) + R**2*(2.0*l + 3.0))*(-16.0*R**4*R**l*l**4 - 48.0*R**4*R**l*l**3 - 68.0*R**4*R**l*l**2 - 60.0*R**4*R**l*l - 18.0*R**4*R**l)/(R**l*(2.0*l + 1.0)*(8.0*l*(l + 1.0) - 6.0)*(-4.0*R**5*R**l*l**4 - 12.0*R**5*R**l*l**3 - 20.0*R**5*R**l*l**2 - 12.0*R**5*R**l*l)) - R**(l - 1.0)*(R**2*(l + 1.0)*(2.0*l + 3.0) - R**2*(l + 3.0)*(2.0*l - 1.0))*(24.0*R**4*R**l*l**2 + 48.0*R**4*R**l*l + 18.0*R**4*R**l)/(R**l*(2.0*l + 1.0)*(8.0*l*(l + 1.0) - 6.0)*(-4.0*R**5*R**l*l**2 - 8.0*R**5*R**l*l - 12.0*R**5*R**l)))/((2*l + 1)*(8*l*(l + 1) - 6)) + R**(l + 1)*r**(-l - 2)*(R**2*l*(2*l - 1) + r**2*(-2*l**2 + l + 6))/((2*l + 1)*(8*l*(l + 1) - 6))],\n",
       "[                                                                                                                                                                                                                                                                                                                                                                                                                                                                                                                                                                                                                                                                                                                                                                                                                                                                                                                                                                                                                                                                                                                                                                                                                                                                                                                                                                                                                                         0]])"
      ]
     },
     "execution_count": 14,
     "metadata": {},
     "output_type": "execute_result"
    }
   ],
   "source": [
    "u_out = u_rgR + single_layer_operator_rgR*f_w\n",
    "u_out"
   ]
  },
  {
   "cell_type": "code",
   "execution_count": 15,
   "id": "e7ec3442",
   "metadata": {},
   "outputs": [
    {
     "data": {
      "text/latex": [
       "$\\displaystyle \\left[\\begin{matrix}1.65568831168831\\\\-2.0 \\cdot 10^{-125}\\\\0\\end{matrix}\\right]$"
      ],
      "text/plain": [
       "Matrix([\n",
       "[1.65568831168831],\n",
       "[        -0.e-125],\n",
       "[               0]])"
      ]
     },
     "execution_count": 15,
     "metadata": {},
     "output_type": "execute_result"
    }
   ],
   "source": [
    "u_out.evalf(subs={r:25,R:20,l:2})"
   ]
  },
  {
   "cell_type": "markdown",
   "id": "14eac8b9",
   "metadata": {},
   "source": [
    "### Analytical expression for flow field inside the force layer"
   ]
  },
  {
   "cell_type": "code",
   "execution_count": 121,
   "id": "1564cc57",
   "metadata": {},
   "outputs": [
    {
     "data": {
      "text/latex": [
       "$\\displaystyle \\left[\\begin{matrix}\\frac{R^{l + 1} l r^{- l - 2} \\left(l + 1\\right) \\left(R^{2} \\cdot \\left(2 l - 1\\right) + r^{2} \\cdot \\left(2 l + 3\\right)\\right) \\left(- \\frac{R^{- l} R^{l - 1.0} l \\left(l + 1.0\\right) \\left(- R^{2} \\cdot \\left(2.0 l - 1.0\\right) + R^{2} \\cdot \\left(2.0 l + 3.0\\right)\\right) \\left(- 16.0 R^{4} R^{l} l^{4} - 48.0 R^{4} R^{l} l^{3} - 68.0 R^{4} R^{l} l^{2} - 60.0 R^{4} R^{l} l - 18.0 R^{4} R^{l}\\right)}{\\left(2.0 l + 1.0\\right) \\left(8.0 l \\left(l + 1.0\\right) - 6.0\\right) \\left(- 4.0 R^{5} R^{l} l^{4} - 12.0 R^{5} R^{l} l^{3} - 20.0 R^{5} R^{l} l^{2} - 12.0 R^{5} R^{l} l\\right)} - \\frac{R^{- l} R^{l - 1.0} \\left(R^{2} \\left(l + 1.0\\right) \\left(2.0 l + 3.0\\right) - R^{2} \\left(l + 3.0\\right) \\left(2.0 l - 1.0\\right)\\right) \\left(24.0 R^{4} R^{l} l^{2} + 48.0 R^{4} R^{l} l + 18.0 R^{4} R^{l}\\right)}{\\left(2.0 l + 1.0\\right) \\left(8.0 l \\left(l + 1.0\\right) - 6.0\\right) \\left(- 4.0 R^{5} R^{l} l^{2} - 8.0 R^{5} R^{l} l - 12.0 R^{5} R^{l}\\right)}\\right)}{\\left(2 l + 1\\right) \\left(8 l \\left(l + 1\\right) - 6\\right)} + \\frac{R^{l + 1} l r^{- l - 2} \\left(l + 1\\right) \\left(- R^{2} \\left(l + 3\\right) \\left(2 l - 1\\right) + r^{2} \\left(l + 1\\right) \\left(2 l + 3\\right)\\right) \\left(- \\frac{R^{- l} R^{l - 1.0} l \\left(l + 1.0\\right) \\left(- R^{2} \\cdot \\left(2.0 l - 1.0\\right) + R^{2} \\cdot \\left(2.0 l + 3.0\\right)\\right) \\left(24.0 R^{4} R^{l} l^{2} + 48.0 R^{4} R^{l} l + 18.0 R^{4} R^{l}\\right)}{\\left(2.0 l + 1.0\\right) \\left(8.0 l \\left(l + 1.0\\right) - 6.0\\right) \\left(- 4.0 R^{5} R^{l} l^{4} - 12.0 R^{5} R^{l} l^{3} - 20.0 R^{5} R^{l} l^{2} - 12.0 R^{5} R^{l} l\\right)} - \\frac{R^{- l} R^{l - 1.0} \\left(R^{2} \\left(l + 1.0\\right) \\left(2.0 l + 3.0\\right) - R^{2} \\left(l + 3.0\\right) \\left(2.0 l - 1.0\\right)\\right) \\left(- 16.0 R^{4} R^{l} l^{3} - 40.0 R^{4} R^{l} l^{2} - 28.0 R^{4} R^{l} l - 6.0 R^{4} R^{l}\\right)}{\\left(2.0 l + 1.0\\right) \\left(8.0 l \\left(l + 1.0\\right) - 6.0\\right) \\left(- 4.0 R^{5} R^{l} l^{2} - 8.0 R^{5} R^{l} l - 12.0 R^{5} R^{l}\\right)}\\right)}{\\left(2 l + 1\\right) \\left(8 l \\left(l + 1\\right) - 6\\right)} + \\frac{R^{- l} l r^{l - 1} \\left(l + 1\\right) \\left(R^{2} \\cdot \\left(2 l + 3\\right) - r^{2} \\cdot \\left(2 l - 1\\right)\\right)}{\\left(2 l + 1\\right) \\left(8 l \\left(l + 1\\right) - 6\\right)}\\\\\\frac{R^{l + 1} r^{- l - 2} \\left(l + 1\\right) \\left(R^{2} l \\left(l + 3\\right) \\left(2 l - 1\\right) + r^{2} \\cdot \\left(2 - l\\right) \\left(l + 1\\right) \\left(2 l + 3\\right)\\right) \\left(- \\frac{R^{- l} R^{l - 1.0} l \\left(l + 1.0\\right) \\left(- R^{2} \\cdot \\left(2.0 l - 1.0\\right) + R^{2} \\cdot \\left(2.0 l + 3.0\\right)\\right) \\left(24.0 R^{4} R^{l} l^{2} + 48.0 R^{4} R^{l} l + 18.0 R^{4} R^{l}\\right)}{\\left(2.0 l + 1.0\\right) \\left(8.0 l \\left(l + 1.0\\right) - 6.0\\right) \\left(- 4.0 R^{5} R^{l} l^{4} - 12.0 R^{5} R^{l} l^{3} - 20.0 R^{5} R^{l} l^{2} - 12.0 R^{5} R^{l} l\\right)} - \\frac{R^{- l} R^{l - 1.0} \\left(R^{2} \\left(l + 1.0\\right) \\left(2.0 l + 3.0\\right) - R^{2} \\left(l + 3.0\\right) \\left(2.0 l - 1.0\\right)\\right) \\left(- 16.0 R^{4} R^{l} l^{3} - 40.0 R^{4} R^{l} l^{2} - 28.0 R^{4} R^{l} l - 6.0 R^{4} R^{l}\\right)}{\\left(2.0 l + 1.0\\right) \\left(8.0 l \\left(l + 1.0\\right) - 6.0\\right) \\left(- 4.0 R^{5} R^{l} l^{2} - 8.0 R^{5} R^{l} l - 12.0 R^{5} R^{l}\\right)}\\right)}{\\left(2 l + 1\\right) \\left(8 l^{2} \\left(l + 2\\right) + 2 l - 6\\right)} + \\frac{R^{l + 1} r^{- l - 2} \\left(R^{2} l \\left(2 l - 1\\right) + r^{2} \\left(- 2 l^{2} + l + 6\\right)\\right) \\left(- \\frac{R^{- l} R^{l - 1.0} l \\left(l + 1.0\\right) \\left(- R^{2} \\cdot \\left(2.0 l - 1.0\\right) + R^{2} \\cdot \\left(2.0 l + 3.0\\right)\\right) \\left(- 16.0 R^{4} R^{l} l^{4} - 48.0 R^{4} R^{l} l^{3} - 68.0 R^{4} R^{l} l^{2} - 60.0 R^{4} R^{l} l - 18.0 R^{4} R^{l}\\right)}{\\left(2.0 l + 1.0\\right) \\left(8.0 l \\left(l + 1.0\\right) - 6.0\\right) \\left(- 4.0 R^{5} R^{l} l^{4} - 12.0 R^{5} R^{l} l^{3} - 20.0 R^{5} R^{l} l^{2} - 12.0 R^{5} R^{l} l\\right)} - \\frac{R^{- l} R^{l - 1.0} \\left(R^{2} \\left(l + 1.0\\right) \\left(2.0 l + 3.0\\right) - R^{2} \\left(l + 3.0\\right) \\left(2.0 l - 1.0\\right)\\right) \\left(24.0 R^{4} R^{l} l^{2} + 48.0 R^{4} R^{l} l + 18.0 R^{4} R^{l}\\right)}{\\left(2.0 l + 1.0\\right) \\left(8.0 l \\left(l + 1.0\\right) - 6.0\\right) \\left(- 4.0 R^{5} R^{l} l^{2} - 8.0 R^{5} R^{l} l - 12.0 R^{5} R^{l}\\right)}\\right)}{\\left(2 l + 1\\right) \\left(8 l \\left(l + 1\\right) - 6\\right)} + \\frac{R^{- l} r^{l - 1} \\left(R^{2} \\left(l + 1\\right) \\left(2 l + 3\\right) - r^{2} \\left(l + 3\\right) \\left(2 l - 1\\right)\\right)}{\\left(2 l + 1\\right) \\left(8 l \\left(l + 1\\right) - 6\\right)}\\\\0\\end{matrix}\\right]$"
      ],
      "text/plain": [
       "Matrix([\n",
       "[                      R**(l + 1)*l*r**(-l - 2)*(l + 1)*(R**2*(2*l - 1) + r**2*(2*l + 3))*(-R**(l - 1.0)*l*(l + 1.0)*(-R**2*(2.0*l - 1.0) + R**2*(2.0*l + 3.0))*(-16.0*R**4*R**l*l**4 - 48.0*R**4*R**l*l**3 - 68.0*R**4*R**l*l**2 - 60.0*R**4*R**l*l - 18.0*R**4*R**l)/(R**l*(2.0*l + 1.0)*(8.0*l*(l + 1.0) - 6.0)*(-4.0*R**5*R**l*l**4 - 12.0*R**5*R**l*l**3 - 20.0*R**5*R**l*l**2 - 12.0*R**5*R**l*l)) - R**(l - 1.0)*(R**2*(l + 1.0)*(2.0*l + 3.0) - R**2*(l + 3.0)*(2.0*l - 1.0))*(24.0*R**4*R**l*l**2 + 48.0*R**4*R**l*l + 18.0*R**4*R**l)/(R**l*(2.0*l + 1.0)*(8.0*l*(l + 1.0) - 6.0)*(-4.0*R**5*R**l*l**2 - 8.0*R**5*R**l*l - 12.0*R**5*R**l)))/((2*l + 1)*(8*l*(l + 1) - 6)) + R**(l + 1)*l*r**(-l - 2)*(l + 1)*(-R**2*(l + 3)*(2*l - 1) + r**2*(l + 1)*(2*l + 3))*(-R**(l - 1.0)*l*(l + 1.0)*(-R**2*(2.0*l - 1.0) + R**2*(2.0*l + 3.0))*(24.0*R**4*R**l*l**2 + 48.0*R**4*R**l*l + 18.0*R**4*R**l)/(R**l*(2.0*l + 1.0)*(8.0*l*(l + 1.0) - 6.0)*(-4.0*R**5*R**l*l**4 - 12.0*R**5*R**l*l**3 - 20.0*R**5*R**l*l**2 - 12.0*R**5*R**l*l)) - R**(l - 1.0)*(R**2*(l + 1.0)*(2.0*l + 3.0) - R**2*(l + 3.0)*(2.0*l - 1.0))*(-16.0*R**4*R**l*l**3 - 40.0*R**4*R**l*l**2 - 28.0*R**4*R**l*l - 6.0*R**4*R**l)/(R**l*(2.0*l + 1.0)*(8.0*l*(l + 1.0) - 6.0)*(-4.0*R**5*R**l*l**2 - 8.0*R**5*R**l*l - 12.0*R**5*R**l)))/((2*l + 1)*(8*l*(l + 1) - 6)) + l*r**(l - 1)*(l + 1)*(R**2*(2*l + 3) - r**2*(2*l - 1))/(R**l*(2*l + 1)*(8*l*(l + 1) - 6))],\n",
       "[R**(l + 1)*r**(-l - 2)*(l + 1)*(R**2*l*(l + 3)*(2*l - 1) + r**2*(2 - l)*(l + 1)*(2*l + 3))*(-R**(l - 1.0)*l*(l + 1.0)*(-R**2*(2.0*l - 1.0) + R**2*(2.0*l + 3.0))*(24.0*R**4*R**l*l**2 + 48.0*R**4*R**l*l + 18.0*R**4*R**l)/(R**l*(2.0*l + 1.0)*(8.0*l*(l + 1.0) - 6.0)*(-4.0*R**5*R**l*l**4 - 12.0*R**5*R**l*l**3 - 20.0*R**5*R**l*l**2 - 12.0*R**5*R**l*l)) - R**(l - 1.0)*(R**2*(l + 1.0)*(2.0*l + 3.0) - R**2*(l + 3.0)*(2.0*l - 1.0))*(-16.0*R**4*R**l*l**3 - 40.0*R**4*R**l*l**2 - 28.0*R**4*R**l*l - 6.0*R**4*R**l)/(R**l*(2.0*l + 1.0)*(8.0*l*(l + 1.0) - 6.0)*(-4.0*R**5*R**l*l**2 - 8.0*R**5*R**l*l - 12.0*R**5*R**l)))/((2*l + 1)*(8*l**2*(l + 2) + 2*l - 6)) + R**(l + 1)*r**(-l - 2)*(R**2*l*(2*l - 1) + r**2*(-2*l**2 + l + 6))*(-R**(l - 1.0)*l*(l + 1.0)*(-R**2*(2.0*l - 1.0) + R**2*(2.0*l + 3.0))*(-16.0*R**4*R**l*l**4 - 48.0*R**4*R**l*l**3 - 68.0*R**4*R**l*l**2 - 60.0*R**4*R**l*l - 18.0*R**4*R**l)/(R**l*(2.0*l + 1.0)*(8.0*l*(l + 1.0) - 6.0)*(-4.0*R**5*R**l*l**4 - 12.0*R**5*R**l*l**3 - 20.0*R**5*R**l*l**2 - 12.0*R**5*R**l*l)) - R**(l - 1.0)*(R**2*(l + 1.0)*(2.0*l + 3.0) - R**2*(l + 3.0)*(2.0*l - 1.0))*(24.0*R**4*R**l*l**2 + 48.0*R**4*R**l*l + 18.0*R**4*R**l)/(R**l*(2.0*l + 1.0)*(8.0*l*(l + 1.0) - 6.0)*(-4.0*R**5*R**l*l**2 - 8.0*R**5*R**l*l - 12.0*R**5*R**l)))/((2*l + 1)*(8*l*(l + 1) - 6)) + r**(l - 1)*(R**2*(l + 1)*(2*l + 3) - r**2*(l + 3)*(2*l - 1))/(R**l*(2*l + 1)*(8*l*(l + 1) - 6))],\n",
       "[                                                                                                                                                                                                                                                                                                                                                                                                                                                                                                                                                                                                                                                                                                                                                                                                                                                                                                                                                                                                                                                                                                                                                                                                                                                                                                                                                                                                                                        0]])"
      ]
     },
     "execution_count": 121,
     "metadata": {},
     "output_type": "execute_result"
    }
   ],
   "source": [
    "u_in = u_rlR + single_layer_operator_rgR*f_w\n",
    "u_in"
   ]
  },
  {
   "cell_type": "code",
   "execution_count": 129,
   "id": "fe71cabf",
   "metadata": {},
   "outputs": [
    {
     "data": {
      "text/latex": [
       "$\\displaystyle \\left[\\begin{matrix}0.0453025974025974\\\\-0.524235714285714\\\\0\\end{matrix}\\right]$"
      ],
      "text/plain": [
       "Matrix([\n",
       "[0.0453025974025974],\n",
       "[-0.524235714285714],\n",
       "[                 0]])"
      ]
     },
     "execution_count": 129,
     "metadata": {},
     "output_type": "execute_result"
    }
   ],
   "source": [
    "u_in.evalf(subs={r:25,R:20,l:2})"
   ]
  },
  {
   "cell_type": "markdown",
   "id": "36fca9cc",
   "metadata": {},
   "source": [
    "### Defining the required vector spherical harmonics"
   ]
  },
  {
   "cell_type": "code",
   "execution_count": 2,
   "id": "e556a80a",
   "metadata": {},
   "outputs": [],
   "source": [
    "from sympy import Ynm, Symbol, simplify\n",
    "from sympy.abc import l,m\n",
    "theta = Symbol(\"theta\")\n",
    "phi = Symbol(\"phi\")"
   ]
  },
  {
   "cell_type": "code",
   "execution_count": 3,
   "id": "949d61a5",
   "metadata": {},
   "outputs": [],
   "source": [
    "from sympy.vector import CoordSys3D\n",
    "P = CoordSys3D('P', \n",
    "               transformation='spherical', \n",
    "               vector_names=list('rtp'),\n",
    "               variable_names=list('VTP'))"
   ]
  },
  {
   "cell_type": "code",
   "execution_count": 4,
   "id": "85a8d5ef",
   "metadata": {
    "scrolled": true
   },
   "outputs": [],
   "source": [
    "Y_lm = Ynm(l,m,theta,phi)*P.r\n",
    "Ψ_lm = P.V*sp.vector.gradient(Ynm(l,m,P.T,P.P))\n",
    "Φ_lm = P.r^sp.vector.gradient(Ynm(l,m,P.T,P.P))"
   ]
  },
  {
   "cell_type": "code",
   "execution_count": 5,
   "id": "19181fe7",
   "metadata": {},
   "outputs": [
    {
     "data": {
      "text/latex": [
       "$\\displaystyle \\left(Y_{l}^{m}\\left(\\theta,\\phi\\right)\\right)\\mathbf{\\hat{r}_{P}}$"
      ],
      "text/plain": [
       "(Ynm(l, m, theta, phi))*P.r"
      ]
     },
     "execution_count": 5,
     "metadata": {},
     "output_type": "execute_result"
    }
   ],
   "source": [
    "Y_lm"
   ]
  },
  {
   "cell_type": "code",
   "execution_count": 6,
   "id": "9cd73fba",
   "metadata": {},
   "outputs": [
    {
     "data": {
      "text/latex": [
       "$\\displaystyle \\left(\\frac{i m Y_{l}^{m}\\left(\\mathbf{{T}_{P}},\\mathbf{{P}_{P}}\\right)}{\\sin{\\left(\\mathbf{{T}_{P}} \\right)}}\\right)\\mathbf{\\hat{p}_{P}} + \\left(m \\cot{\\left(\\mathbf{{T}_{P}} \\right)} Y_{l}^{m}\\left(\\mathbf{{T}_{P}},\\mathbf{{P}_{P}}\\right) + \\sqrt{\\left(l - m\\right) \\left(l + m + 1\\right)} e^{- \\mathbf{{P}_{P}} i} Y_{l}^{m + 1}\\left(\\mathbf{{T}_{P}},\\mathbf{{P}_{P}}\\right)\\right)\\mathbf{\\hat{t}_{P}}$"
      ],
      "text/plain": [
       "(m*cot(P.T)*Ynm(l, m, P.T, P.P) + sqrt((l - m)*(l + m + 1))*exp(-P.P*I)*Ynm(l, m + 1, P.T, P.P))*P.t + (I*m*Ynm(l, m, P.T, P.P)/sin(P.T))*P.p"
      ]
     },
     "execution_count": 6,
     "metadata": {},
     "output_type": "execute_result"
    }
   ],
   "source": [
    "Ψ_lm"
   ]
  },
  {
   "cell_type": "code",
   "execution_count": 7,
   "id": "5ddcb985",
   "metadata": {},
   "outputs": [
    {
     "data": {
      "text/latex": [
       "$\\displaystyle \\left(\\frac{m \\cot{\\left(\\mathbf{{T}_{P}} \\right)} Y_{l}^{m}\\left(\\mathbf{{T}_{P}},\\mathbf{{P}_{P}}\\right) + \\sqrt{\\left(l - m\\right) \\left(l + m + 1\\right)} e^{- \\mathbf{{P}_{P}} i} Y_{l}^{m + 1}\\left(\\mathbf{{T}_{P}},\\mathbf{{P}_{P}}\\right)}{\\mathbf{{V}_{P}}}\\right)\\mathbf{\\hat{p}_{P}} + \\left(- \\frac{i m Y_{l}^{m}\\left(\\mathbf{{T}_{P}},\\mathbf{{P}_{P}}\\right)}{\\mathbf{{V}_{P}} \\sin{\\left(\\mathbf{{T}_{P}} \\right)}}\\right)\\mathbf{\\hat{t}_{P}}$"
      ],
      "text/plain": [
       "(-I*m*Ynm(l, m, P.T, P.P)/(P.V*sin(P.T)))*P.t + ((m*cot(P.T)*Ynm(l, m, P.T, P.P) + sqrt((l - m)*(l + m + 1))*exp(-P.P*I)*Ynm(l, m + 1, P.T, P.P))/P.V)*P.p"
      ]
     },
     "execution_count": 7,
     "metadata": {},
     "output_type": "execute_result"
    }
   ],
   "source": [
    "Φ_lm"
   ]
  },
  {
   "cell_type": "code",
   "execution_count": 9,
   "id": "4715c529",
   "metadata": {},
   "outputs": [],
   "source": [
    "from sympy.vector import CoordSys3D\n",
    "P = CoordSys3D('C', \n",
    "               transformation='cartesian', \n",
    "               vector_names=list('xyz'),\n",
    "               variable_names=list('XYZ'))"
   ]
  },
  {
   "cell_type": "code",
   "execution_count": 11,
   "id": "990c91f6",
   "metadata": {},
   "outputs": [
    {
     "ename": "TypeError",
     "evalue": "Ynm takes exactly 4 arguments (5 given)",
     "output_type": "error",
     "traceback": [
      "\u001b[0;31m---------------------------------------------------------------------------\u001b[0m",
      "\u001b[0;31mTypeError\u001b[0m                                 Traceback (most recent call last)",
      "Cell \u001b[0;32mIn[11], line 1\u001b[0m\n\u001b[0;32m----> 1\u001b[0m sp\u001b[38;5;241m.\u001b[39mvector\u001b[38;5;241m.\u001b[39mgradient(Ynm(l,m,P\u001b[38;5;241m.\u001b[39mX,P\u001b[38;5;241m.\u001b[39mY,P\u001b[38;5;241m.\u001b[39mZ))\n",
      "File \u001b[0;32m~/anaconda3/envs/cilia/lib/python3.11/site-packages/sympy/core/cache.py:70\u001b[0m, in \u001b[0;36m__cacheit.<locals>.func_wrapper.<locals>.wrapper\u001b[0;34m(*args, **kwargs)\u001b[0m\n\u001b[1;32m     67\u001b[0m \u001b[38;5;129m@wraps\u001b[39m(func)\n\u001b[1;32m     68\u001b[0m \u001b[38;5;28;01mdef\u001b[39;00m \u001b[38;5;21mwrapper\u001b[39m(\u001b[38;5;241m*\u001b[39margs, \u001b[38;5;241m*\u001b[39m\u001b[38;5;241m*\u001b[39mkwargs):\n\u001b[1;32m     69\u001b[0m     \u001b[38;5;28;01mtry\u001b[39;00m:\n\u001b[0;32m---> 70\u001b[0m         retval \u001b[38;5;241m=\u001b[39m cfunc(\u001b[38;5;241m*\u001b[39margs, \u001b[38;5;241m*\u001b[39m\u001b[38;5;241m*\u001b[39mkwargs)\n\u001b[1;32m     71\u001b[0m     \u001b[38;5;28;01mexcept\u001b[39;00m \u001b[38;5;167;01mTypeError\u001b[39;00m \u001b[38;5;28;01mas\u001b[39;00m e:\n\u001b[1;32m     72\u001b[0m         \u001b[38;5;28;01mif\u001b[39;00m \u001b[38;5;129;01mnot\u001b[39;00m e\u001b[38;5;241m.\u001b[39margs \u001b[38;5;129;01mor\u001b[39;00m \u001b[38;5;129;01mnot\u001b[39;00m e\u001b[38;5;241m.\u001b[39margs[\u001b[38;5;241m0\u001b[39m]\u001b[38;5;241m.\u001b[39mstartswith(\u001b[38;5;124m'\u001b[39m\u001b[38;5;124munhashable type:\u001b[39m\u001b[38;5;124m'\u001b[39m):\n",
      "File \u001b[0;32m~/anaconda3/envs/cilia/lib/python3.11/site-packages/sympy/core/function.py:461\u001b[0m, in \u001b[0;36mFunction.__new__\u001b[0;34m(cls, *args, **options)\u001b[0m\n\u001b[1;32m    453\u001b[0m \u001b[38;5;28;01mif\u001b[39;00m \u001b[38;5;129;01mnot\u001b[39;00m \u001b[38;5;28mcls\u001b[39m\u001b[38;5;241m.\u001b[39m_valid_nargs(n):\n\u001b[1;32m    454\u001b[0m     \u001b[38;5;66;03m# XXX: exception message must be in exactly this format to\u001b[39;00m\n\u001b[1;32m    455\u001b[0m     \u001b[38;5;66;03m# make it work with NumPy's functions like vectorize(). See,\u001b[39;00m\n\u001b[1;32m    456\u001b[0m     \u001b[38;5;66;03m# for example, https://github.com/numpy/numpy/issues/1697.\u001b[39;00m\n\u001b[1;32m    457\u001b[0m     \u001b[38;5;66;03m# The ideal solution would be just to attach metadata to\u001b[39;00m\n\u001b[1;32m    458\u001b[0m     \u001b[38;5;66;03m# the exception and change NumPy to take advantage of this.\u001b[39;00m\n\u001b[1;32m    459\u001b[0m     temp \u001b[38;5;241m=\u001b[39m (\u001b[38;5;124m'\u001b[39m\u001b[38;5;132;01m%(name)s\u001b[39;00m\u001b[38;5;124m takes \u001b[39m\u001b[38;5;132;01m%(qual)s\u001b[39;00m\u001b[38;5;124m \u001b[39m\u001b[38;5;132;01m%(args)s\u001b[39;00m\u001b[38;5;124m \u001b[39m\u001b[38;5;124m'\u001b[39m\n\u001b[1;32m    460\u001b[0m            \u001b[38;5;124m'\u001b[39m\u001b[38;5;124margument\u001b[39m\u001b[38;5;132;01m%(plural)s\u001b[39;00m\u001b[38;5;124m (\u001b[39m\u001b[38;5;132;01m%(given)s\u001b[39;00m\u001b[38;5;124m given)\u001b[39m\u001b[38;5;124m'\u001b[39m)\n\u001b[0;32m--> 461\u001b[0m     \u001b[38;5;28;01mraise\u001b[39;00m \u001b[38;5;167;01mTypeError\u001b[39;00m(temp \u001b[38;5;241m%\u001b[39m {\n\u001b[1;32m    462\u001b[0m         \u001b[38;5;124m'\u001b[39m\u001b[38;5;124mname\u001b[39m\u001b[38;5;124m'\u001b[39m: \u001b[38;5;28mcls\u001b[39m,\n\u001b[1;32m    463\u001b[0m         \u001b[38;5;124m'\u001b[39m\u001b[38;5;124mqual\u001b[39m\u001b[38;5;124m'\u001b[39m: \u001b[38;5;124m'\u001b[39m\u001b[38;5;124mexactly\u001b[39m\u001b[38;5;124m'\u001b[39m \u001b[38;5;28;01mif\u001b[39;00m \u001b[38;5;28mlen\u001b[39m(\u001b[38;5;28mcls\u001b[39m\u001b[38;5;241m.\u001b[39mnargs) \u001b[38;5;241m==\u001b[39m \u001b[38;5;241m1\u001b[39m \u001b[38;5;28;01melse\u001b[39;00m \u001b[38;5;124m'\u001b[39m\u001b[38;5;124mat least\u001b[39m\u001b[38;5;124m'\u001b[39m,\n\u001b[1;32m    464\u001b[0m         \u001b[38;5;124m'\u001b[39m\u001b[38;5;124margs\u001b[39m\u001b[38;5;124m'\u001b[39m: \u001b[38;5;28mmin\u001b[39m(\u001b[38;5;28mcls\u001b[39m\u001b[38;5;241m.\u001b[39mnargs),\n\u001b[1;32m    465\u001b[0m         \u001b[38;5;124m'\u001b[39m\u001b[38;5;124mplural\u001b[39m\u001b[38;5;124m'\u001b[39m: \u001b[38;5;124m'\u001b[39m\u001b[38;5;124ms\u001b[39m\u001b[38;5;124m'\u001b[39m\u001b[38;5;241m*\u001b[39m(\u001b[38;5;28mmin\u001b[39m(\u001b[38;5;28mcls\u001b[39m\u001b[38;5;241m.\u001b[39mnargs) \u001b[38;5;241m!=\u001b[39m \u001b[38;5;241m1\u001b[39m),\n\u001b[1;32m    466\u001b[0m         \u001b[38;5;124m'\u001b[39m\u001b[38;5;124mgiven\u001b[39m\u001b[38;5;124m'\u001b[39m: n})\n\u001b[1;32m    468\u001b[0m evaluate \u001b[38;5;241m=\u001b[39m options\u001b[38;5;241m.\u001b[39mget(\u001b[38;5;124m'\u001b[39m\u001b[38;5;124mevaluate\u001b[39m\u001b[38;5;124m'\u001b[39m, global_parameters\u001b[38;5;241m.\u001b[39mevaluate)\n\u001b[1;32m    469\u001b[0m result \u001b[38;5;241m=\u001b[39m \u001b[38;5;28msuper\u001b[39m()\u001b[38;5;241m.\u001b[39m\u001b[38;5;21m__new__\u001b[39m(\u001b[38;5;28mcls\u001b[39m, \u001b[38;5;241m*\u001b[39margs, \u001b[38;5;241m*\u001b[39m\u001b[38;5;241m*\u001b[39moptions)\n",
      "\u001b[0;31mTypeError\u001b[0m: Ynm takes exactly 4 arguments (5 given)"
     ]
    }
   ],
   "source": [
    "sp.vector.gradient(Ynm(l,m,P.X,P.Y,P.Z))"
   ]
  }
 ],
 "metadata": {
  "kernelspec": {
   "display_name": "Python 3 (ipykernel)",
   "language": "python",
   "name": "python3"
  },
  "language_info": {
   "codemirror_mode": {
    "name": "ipython",
    "version": 3
   },
   "file_extension": ".py",
   "mimetype": "text/x-python",
   "name": "python",
   "nbconvert_exporter": "python",
   "pygments_lexer": "ipython3",
   "version": "3.11.5"
  }
 },
 "nbformat": 4,
 "nbformat_minor": 5
}
